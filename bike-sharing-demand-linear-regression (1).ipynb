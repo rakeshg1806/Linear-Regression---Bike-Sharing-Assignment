{
 "cells": [
  {
   "cell_type": "markdown",
   "metadata": {
    "papermill": {
     "duration": 0.025205,
     "end_time": "2020-08-12T13:44:57.438156",
     "exception": false,
     "start_time": "2020-08-12T13:44:57.412951",
     "status": "completed"
    },
    "tags": []
   },
   "source": [
    "### BoomBikes Bike Sharing"
   ]
  },
  {
   "cell_type": "markdown",
   "metadata": {
    "papermill": {
     "duration": 0.022942,
     "end_time": "2020-08-12T13:44:57.485557",
     "exception": false,
     "start_time": "2020-08-12T13:44:57.462615",
     "status": "completed"
    },
    "tags": []
   },
   "source": [
    "**Business Case:**\n",
    "\n",
    "A bike-sharing system is a service in which bikes are made available for shared use to individuals on a short term basis for a price or free. Many bike share systems allow people to borrow a bike from a \"dock\" which is usually computer-controlled wherein the user enters the payment information, and the system unlocks it. This bike can then be returned to another dock belonging to the same system.\n",
    "\n",
    "A US bike-sharing provider `BoomBikes` has recently suffered considerable dips in their revenues due to the ongoing Corona pandemic. The company is finding it very difficult to sustain in the current market scenario. So, it has decided to come up with a mindful business plan to be able to accelerate its revenue as soon as the ongoing lockdown comes to an end, and the economy restores to a healthy state. \n",
    "\n",
    "In such an attempt, BoomBikes aspires to understand the demand for shared bikes among the people after this ongoing quarantine situation ends across the nation due to Covid-19. They have planned this to prepare themselves to cater to the people's needs once the situation gets better all around and stand out from other service providers and make huge profits.\n",
    "\n",
    "The company wants to know:\n",
    "\t- Which variables are significant in predicting the demand for shared bikes.\n",
    "\t- How well those variables describe the bike demands\n",
    "Based on various meteorological surveys and people's styles, the service provider firm has gathered a large dataset on daily bike demands across the American market based on some factors. "
   ]
  },
  {
   "cell_type": "markdown",
   "metadata": {
    "papermill": {
     "duration": 0.023011,
     "end_time": "2020-08-12T13:44:57.531803",
     "exception": false,
     "start_time": "2020-08-12T13:44:57.508792",
     "status": "completed"
    },
    "tags": []
   },
   "source": [
    "#### Business Goal:\n",
    "You are required to model the demand for shared bikes with the available independent variables. It will be used by the management to understand how exactly the demands vary with different features. They can accordingly manipulate the business strategy to meet the demand levels and meet the customer's expectations. Further, the model will be a good way for management to understand the demand dynamics of a new market. "
   ]
  },
  {
   "cell_type": "code",
   "execution_count": 1,
   "metadata": {
    "execution": {
     "iopub.execute_input": "2020-08-12T13:44:57.584456Z",
     "iopub.status.busy": "2020-08-12T13:44:57.583356Z",
     "iopub.status.idle": "2020-08-12T13:44:57.586753Z",
     "shell.execute_reply": "2020-08-12T13:44:57.586125Z"
    },
    "papermill": {
     "duration": 0.031535,
     "end_time": "2020-08-12T13:44:57.586882",
     "exception": false,
     "start_time": "2020-08-12T13:44:57.555347",
     "status": "completed"
    },
    "tags": []
   },
   "outputs": [],
   "source": [
    "# suppres warnings\n",
    "import warnings\n",
    "warnings.filterwarnings('ignore')"
   ]
  },
  {
   "cell_type": "code",
   "execution_count": 2,
   "metadata": {
    "execution": {
     "iopub.execute_input": "2020-08-12T13:44:57.645390Z",
     "iopub.status.busy": "2020-08-12T13:44:57.644603Z",
     "iopub.status.idle": "2020-08-12T13:44:59.612973Z",
     "shell.execute_reply": "2020-08-12T13:44:59.612144Z"
    },
    "papermill": {
     "duration": 1.999394,
     "end_time": "2020-08-12T13:44:59.613133",
     "exception": false,
     "start_time": "2020-08-12T13:44:57.613739",
     "status": "completed"
    },
    "tags": []
   },
   "outputs": [],
   "source": [
    "# Import required libraries\n",
    "import numpy as np\n",
    "import pandas as pd\n",
    "\n",
    "import matplotlib.pyplot as plt\n",
    "import seaborn as sns\n",
    "\n",
    "from sklearn.model_selection import train_test_split\n",
    "from sklearn.preprocessing import MinMaxScaler\n",
    "from sklearn.linear_model import LinearRegression\n",
    "from sklearn.feature_selection import RFE\n",
    "from statsmodels.stats.outliers_influence import variance_inflation_factor\n",
    "from sklearn.metrics import r2_score, mean_squared_error\n",
    "\n",
    "import statsmodels.api as sm"
   ]
  },
  {
   "cell_type": "markdown",
   "metadata": {
    "papermill": {
     "duration": 0.022929,
     "end_time": "2020-08-12T13:44:59.659992",
     "exception": false,
     "start_time": "2020-08-12T13:44:59.637063",
     "status": "completed"
    },
    "tags": []
   },
   "source": [
    "### Step - 1. Reading, understandig and visualising data"
   ]
  },
  {
   "cell_type": "markdown",
   "metadata": {
    "papermill": {
     "duration": 0.022706,
     "end_time": "2020-08-12T13:44:59.706549",
     "exception": false,
     "start_time": "2020-08-12T13:44:59.683843",
     "status": "completed"
    },
    "tags": []
   },
   "source": [
    "#### 1.1 Reading and Understanding data"
   ]
  },
  {
   "cell_type": "code",
   "execution_count": 3,
   "metadata": {
    "execution": {
     "iopub.execute_input": "2020-08-12T13:44:59.763544Z",
     "iopub.status.busy": "2020-08-12T13:44:59.762513Z",
     "iopub.status.idle": "2020-08-12T13:44:59.797400Z",
     "shell.execute_reply": "2020-08-12T13:44:59.796659Z"
    },
    "papermill": {
     "duration": 0.068003,
     "end_time": "2020-08-12T13:44:59.797527",
     "exception": false,
     "start_time": "2020-08-12T13:44:59.729524",
     "status": "completed"
    },
    "tags": []
   },
   "outputs": [
    {
     "data": {
      "text/html": [
       "<div>\n",
       "<style scoped>\n",
       "    .dataframe tbody tr th:only-of-type {\n",
       "        vertical-align: middle;\n",
       "    }\n",
       "\n",
       "    .dataframe tbody tr th {\n",
       "        vertical-align: top;\n",
       "    }\n",
       "\n",
       "    .dataframe thead th {\n",
       "        text-align: right;\n",
       "    }\n",
       "</style>\n",
       "<table border=\"1\" class=\"dataframe\">\n",
       "  <thead>\n",
       "    <tr style=\"text-align: right;\">\n",
       "      <th></th>\n",
       "      <th>instant</th>\n",
       "      <th>dteday</th>\n",
       "      <th>season</th>\n",
       "      <th>yr</th>\n",
       "      <th>mnth</th>\n",
       "      <th>holiday</th>\n",
       "      <th>weekday</th>\n",
       "      <th>workingday</th>\n",
       "      <th>weathersit</th>\n",
       "      <th>temp</th>\n",
       "      <th>atemp</th>\n",
       "      <th>hum</th>\n",
       "      <th>windspeed</th>\n",
       "      <th>casual</th>\n",
       "      <th>registered</th>\n",
       "      <th>cnt</th>\n",
       "    </tr>\n",
       "  </thead>\n",
       "  <tbody>\n",
       "    <tr>\n",
       "      <th>0</th>\n",
       "      <td>1</td>\n",
       "      <td>01-01-2018</td>\n",
       "      <td>1</td>\n",
       "      <td>0</td>\n",
       "      <td>1</td>\n",
       "      <td>0</td>\n",
       "      <td>1</td>\n",
       "      <td>1</td>\n",
       "      <td>2</td>\n",
       "      <td>14.110847</td>\n",
       "      <td>18.18125</td>\n",
       "      <td>80.5833</td>\n",
       "      <td>10.749882</td>\n",
       "      <td>331</td>\n",
       "      <td>654</td>\n",
       "      <td>985</td>\n",
       "    </tr>\n",
       "    <tr>\n",
       "      <th>1</th>\n",
       "      <td>2</td>\n",
       "      <td>02-01-2018</td>\n",
       "      <td>1</td>\n",
       "      <td>0</td>\n",
       "      <td>1</td>\n",
       "      <td>0</td>\n",
       "      <td>2</td>\n",
       "      <td>1</td>\n",
       "      <td>2</td>\n",
       "      <td>14.902598</td>\n",
       "      <td>17.68695</td>\n",
       "      <td>69.6087</td>\n",
       "      <td>16.652113</td>\n",
       "      <td>131</td>\n",
       "      <td>670</td>\n",
       "      <td>801</td>\n",
       "    </tr>\n",
       "    <tr>\n",
       "      <th>2</th>\n",
       "      <td>3</td>\n",
       "      <td>03-01-2018</td>\n",
       "      <td>1</td>\n",
       "      <td>0</td>\n",
       "      <td>1</td>\n",
       "      <td>0</td>\n",
       "      <td>3</td>\n",
       "      <td>1</td>\n",
       "      <td>1</td>\n",
       "      <td>8.050924</td>\n",
       "      <td>9.47025</td>\n",
       "      <td>43.7273</td>\n",
       "      <td>16.636703</td>\n",
       "      <td>120</td>\n",
       "      <td>1229</td>\n",
       "      <td>1349</td>\n",
       "    </tr>\n",
       "    <tr>\n",
       "      <th>3</th>\n",
       "      <td>4</td>\n",
       "      <td>04-01-2018</td>\n",
       "      <td>1</td>\n",
       "      <td>0</td>\n",
       "      <td>1</td>\n",
       "      <td>0</td>\n",
       "      <td>4</td>\n",
       "      <td>1</td>\n",
       "      <td>1</td>\n",
       "      <td>8.200000</td>\n",
       "      <td>10.60610</td>\n",
       "      <td>59.0435</td>\n",
       "      <td>10.739832</td>\n",
       "      <td>108</td>\n",
       "      <td>1454</td>\n",
       "      <td>1562</td>\n",
       "    </tr>\n",
       "    <tr>\n",
       "      <th>4</th>\n",
       "      <td>5</td>\n",
       "      <td>05-01-2018</td>\n",
       "      <td>1</td>\n",
       "      <td>0</td>\n",
       "      <td>1</td>\n",
       "      <td>0</td>\n",
       "      <td>5</td>\n",
       "      <td>1</td>\n",
       "      <td>1</td>\n",
       "      <td>9.305237</td>\n",
       "      <td>11.46350</td>\n",
       "      <td>43.6957</td>\n",
       "      <td>12.522300</td>\n",
       "      <td>82</td>\n",
       "      <td>1518</td>\n",
       "      <td>1600</td>\n",
       "    </tr>\n",
       "  </tbody>\n",
       "</table>\n",
       "</div>"
      ],
      "text/plain": [
       "   instant      dteday  season  yr  mnth  holiday  weekday  workingday  \\\n",
       "0        1  01-01-2018       1   0     1        0        1           1   \n",
       "1        2  02-01-2018       1   0     1        0        2           1   \n",
       "2        3  03-01-2018       1   0     1        0        3           1   \n",
       "3        4  04-01-2018       1   0     1        0        4           1   \n",
       "4        5  05-01-2018       1   0     1        0        5           1   \n",
       "\n",
       "   weathersit       temp     atemp      hum  windspeed  casual  registered  \\\n",
       "0           2  14.110847  18.18125  80.5833  10.749882     331         654   \n",
       "1           2  14.902598  17.68695  69.6087  16.652113     131         670   \n",
       "2           1   8.050924   9.47025  43.7273  16.636703     120        1229   \n",
       "3           1   8.200000  10.60610  59.0435  10.739832     108        1454   \n",
       "4           1   9.305237  11.46350  43.6957  12.522300      82        1518   \n",
       "\n",
       "    cnt  \n",
       "0   985  \n",
       "1   801  \n",
       "2  1349  \n",
       "3  1562  \n",
       "4  1600  "
      ]
     },
     "execution_count": 3,
     "metadata": {},
     "output_type": "execute_result"
    }
   ],
   "source": [
    "# reading data set\n",
    "df = pd.read_csv('day.csv')\n",
    "df.head()"
   ]
  },
  {
   "cell_type": "code",
   "execution_count": 4,
   "metadata": {
    "execution": {
     "iopub.execute_input": "2020-08-12T13:44:59.850989Z",
     "iopub.status.busy": "2020-08-12T13:44:59.850040Z",
     "iopub.status.idle": "2020-08-12T13:44:59.854380Z",
     "shell.execute_reply": "2020-08-12T13:44:59.853651Z"
    },
    "papermill": {
     "duration": 0.033176,
     "end_time": "2020-08-12T13:44:59.854510",
     "exception": false,
     "start_time": "2020-08-12T13:44:59.821334",
     "status": "completed"
    },
    "tags": []
   },
   "outputs": [
    {
     "data": {
      "text/plain": [
       "(730, 16)"
      ]
     },
     "execution_count": 4,
     "metadata": {},
     "output_type": "execute_result"
    }
   ],
   "source": [
    "# getting insights of dataframe\n",
    "df.shape"
   ]
  },
  {
   "cell_type": "code",
   "execution_count": 5,
   "metadata": {
    "execution": {
     "iopub.execute_input": "2020-08-12T13:44:59.921654Z",
     "iopub.status.busy": "2020-08-12T13:44:59.920774Z",
     "iopub.status.idle": "2020-08-12T13:44:59.925240Z",
     "shell.execute_reply": "2020-08-12T13:44:59.924502Z"
    },
    "papermill": {
     "duration": 0.046786,
     "end_time": "2020-08-12T13:44:59.925375",
     "exception": false,
     "start_time": "2020-08-12T13:44:59.878589",
     "status": "completed"
    },
    "scrolled": true,
    "tags": []
   },
   "outputs": [
    {
     "name": "stdout",
     "output_type": "stream",
     "text": [
      "<class 'pandas.core.frame.DataFrame'>\n",
      "RangeIndex: 730 entries, 0 to 729\n",
      "Data columns (total 16 columns):\n",
      " #   Column      Non-Null Count  Dtype  \n",
      "---  ------      --------------  -----  \n",
      " 0   instant     730 non-null    int64  \n",
      " 1   dteday      730 non-null    object \n",
      " 2   season      730 non-null    int64  \n",
      " 3   yr          730 non-null    int64  \n",
      " 4   mnth        730 non-null    int64  \n",
      " 5   holiday     730 non-null    int64  \n",
      " 6   weekday     730 non-null    int64  \n",
      " 7   workingday  730 non-null    int64  \n",
      " 8   weathersit  730 non-null    int64  \n",
      " 9   temp        730 non-null    float64\n",
      " 10  atemp       730 non-null    float64\n",
      " 11  hum         730 non-null    float64\n",
      " 12  windspeed   730 non-null    float64\n",
      " 13  casual      730 non-null    int64  \n",
      " 14  registered  730 non-null    int64  \n",
      " 15  cnt         730 non-null    int64  \n",
      "dtypes: float64(4), int64(11), object(1)\n",
      "memory usage: 91.4+ KB\n"
     ]
    }
   ],
   "source": [
    "# getting descriptive insights of dataframe\n",
    "df.info()"
   ]
  },
  {
   "cell_type": "markdown",
   "metadata": {
    "papermill": {
     "duration": 0.023733,
     "end_time": "2020-08-12T13:44:59.973477",
     "exception": false,
     "start_time": "2020-08-12T13:44:59.949744",
     "status": "completed"
    },
    "tags": []
   },
   "source": [
    "There is no Null values in the column and majority of data are having numerical values except date column."
   ]
  },
  {
   "cell_type": "code",
   "execution_count": 6,
   "metadata": {
    "execution": {
     "iopub.execute_input": "2020-08-12T13:45:00.028706Z",
     "iopub.status.busy": "2020-08-12T13:45:00.027599Z",
     "iopub.status.idle": "2020-08-12T13:45:00.039168Z",
     "shell.execute_reply": "2020-08-12T13:45:00.038418Z"
    },
    "papermill": {
     "duration": 0.041604,
     "end_time": "2020-08-12T13:45:00.039299",
     "exception": false,
     "start_time": "2020-08-12T13:44:59.997695",
     "status": "completed"
    },
    "tags": []
   },
   "outputs": [
    {
     "data": {
      "text/plain": [
       "0"
      ]
     },
     "execution_count": 6,
     "metadata": {},
     "output_type": "execute_result"
    }
   ],
   "source": [
    "# Check for any duplicate entries\n",
    "df.duplicated().sum()"
   ]
  },
  {
   "cell_type": "markdown",
   "metadata": {
    "papermill": {
     "duration": 0.024523,
     "end_time": "2020-08-12T13:45:00.088571",
     "exception": false,
     "start_time": "2020-08-12T13:45:00.064048",
     "status": "completed"
    },
    "tags": []
   },
   "source": [
    "There is no duplicate entries found in the dataset"
   ]
  },
  {
   "cell_type": "markdown",
   "metadata": {
    "papermill": {
     "duration": 0.02437,
     "end_time": "2020-08-12T13:45:00.137617",
     "exception": false,
     "start_time": "2020-08-12T13:45:00.113247",
     "status": "completed"
    },
    "tags": []
   },
   "source": [
    "Insights:\n",
    "-  `instant` column is a record index which does not have any significance in out analysis. So we will drop the column  \n",
    "- The varibles `casual` and `registered` are summed up to get `cnt` which is our target variable. Also during prediction we wll not be having these data, so we will drop these two variables which we are not going to use in the model.\n",
    "- We are going to use `weekday` varible which is derived from `dteday`, so we will not be using `dteday` and will drop it.\n",
    "- `temp` and `atemp` are directly correlated among each other. We will use `temp` and drop `atemp`."
   ]
  },
  {
   "cell_type": "code",
   "execution_count": 7,
   "metadata": {
    "execution": {
     "iopub.execute_input": "2020-08-12T13:45:00.196251Z",
     "iopub.status.busy": "2020-08-12T13:45:00.195209Z",
     "iopub.status.idle": "2020-08-12T13:45:00.198500Z",
     "shell.execute_reply": "2020-08-12T13:45:00.197761Z"
    },
    "papermill": {
     "duration": 0.035925,
     "end_time": "2020-08-12T13:45:00.198628",
     "exception": false,
     "start_time": "2020-08-12T13:45:00.162703",
     "status": "completed"
    },
    "tags": []
   },
   "outputs": [],
   "source": [
    "# drop columns instance, dteday, casual, registered and atemp\n",
    "df.drop(['instant', 'dteday','casual','registered','atemp'], axis=1, inplace=True)"
   ]
  },
  {
   "cell_type": "code",
   "execution_count": 8,
   "metadata": {
    "execution": {
     "iopub.execute_input": "2020-08-12T13:45:00.253381Z",
     "iopub.status.busy": "2020-08-12T13:45:00.252434Z",
     "iopub.status.idle": "2020-08-12T13:45:00.256881Z",
     "shell.execute_reply": "2020-08-12T13:45:00.256227Z"
    },
    "papermill": {
     "duration": 0.033958,
     "end_time": "2020-08-12T13:45:00.257007",
     "exception": false,
     "start_time": "2020-08-12T13:45:00.223049",
     "status": "completed"
    },
    "tags": []
   },
   "outputs": [
    {
     "data": {
      "text/plain": [
       "(730, 11)"
      ]
     },
     "execution_count": 8,
     "metadata": {},
     "output_type": "execute_result"
    }
   ],
   "source": [
    "# After droppping the variables checking the columns abnd rows in the dataframe\n",
    "df.shape"
   ]
  },
  {
   "cell_type": "code",
   "execution_count": 9,
   "metadata": {
    "execution": {
     "iopub.execute_input": "2020-08-12T13:45:00.312890Z",
     "iopub.status.busy": "2020-08-12T13:45:00.311767Z",
     "iopub.status.idle": "2020-08-12T13:45:00.315118Z",
     "shell.execute_reply": "2020-08-12T13:45:00.314466Z"
    },
    "papermill": {
     "duration": 0.033457,
     "end_time": "2020-08-12T13:45:00.315242",
     "exception": false,
     "start_time": "2020-08-12T13:45:00.281785",
     "status": "completed"
    },
    "tags": []
   },
   "outputs": [],
   "source": [
    "# identify categorical variables\n",
    "cat_vars = ['season','yr','mnth','holiday','weekday', 'workingday','weathersit']\n",
    "\n",
    "# identify numeric variables\n",
    "num_vars = ['temp', 'hum','windspeed','cnt']"
   ]
  },
  {
   "cell_type": "code",
   "execution_count": 10,
   "metadata": {
    "execution": {
     "iopub.execute_input": "2020-08-12T13:45:00.379117Z",
     "iopub.status.busy": "2020-08-12T13:45:00.378266Z",
     "iopub.status.idle": "2020-08-12T13:45:00.381632Z",
     "shell.execute_reply": "2020-08-12T13:45:00.381000Z"
    },
    "papermill": {
     "duration": 0.041781,
     "end_time": "2020-08-12T13:45:00.381756",
     "exception": false,
     "start_time": "2020-08-12T13:45:00.339975",
     "status": "completed"
    },
    "scrolled": true,
    "tags": []
   },
   "outputs": [],
   "source": [
    "# convert dtype of categorical variables\n",
    "df[cat_vars] = df[cat_vars].astype('category')"
   ]
  },
  {
   "cell_type": "code",
   "execution_count": 11,
   "metadata": {
    "execution": {
     "iopub.execute_input": "2020-08-12T13:45:00.442765Z",
     "iopub.status.busy": "2020-08-12T13:45:00.441719Z",
     "iopub.status.idle": "2020-08-12T13:45:00.464205Z",
     "shell.execute_reply": "2020-08-12T13:45:00.463460Z"
    },
    "papermill": {
     "duration": 0.058141,
     "end_time": "2020-08-12T13:45:00.464340",
     "exception": false,
     "start_time": "2020-08-12T13:45:00.406199",
     "status": "completed"
    },
    "scrolled": true,
    "tags": []
   },
   "outputs": [
    {
     "data": {
      "text/html": [
       "<div>\n",
       "<style scoped>\n",
       "    .dataframe tbody tr th:only-of-type {\n",
       "        vertical-align: middle;\n",
       "    }\n",
       "\n",
       "    .dataframe tbody tr th {\n",
       "        vertical-align: top;\n",
       "    }\n",
       "\n",
       "    .dataframe thead th {\n",
       "        text-align: right;\n",
       "    }\n",
       "</style>\n",
       "<table border=\"1\" class=\"dataframe\">\n",
       "  <thead>\n",
       "    <tr style=\"text-align: right;\">\n",
       "      <th></th>\n",
       "      <th>temp</th>\n",
       "      <th>hum</th>\n",
       "      <th>windspeed</th>\n",
       "      <th>cnt</th>\n",
       "    </tr>\n",
       "  </thead>\n",
       "  <tbody>\n",
       "    <tr>\n",
       "      <th>count</th>\n",
       "      <td>730.000000</td>\n",
       "      <td>730.000000</td>\n",
       "      <td>730.000000</td>\n",
       "      <td>730.000000</td>\n",
       "    </tr>\n",
       "    <tr>\n",
       "      <th>mean</th>\n",
       "      <td>20.319259</td>\n",
       "      <td>62.765175</td>\n",
       "      <td>12.763620</td>\n",
       "      <td>4508.006849</td>\n",
       "    </tr>\n",
       "    <tr>\n",
       "      <th>std</th>\n",
       "      <td>7.506729</td>\n",
       "      <td>14.237589</td>\n",
       "      <td>5.195841</td>\n",
       "      <td>1936.011647</td>\n",
       "    </tr>\n",
       "    <tr>\n",
       "      <th>min</th>\n",
       "      <td>2.424346</td>\n",
       "      <td>0.000000</td>\n",
       "      <td>1.500244</td>\n",
       "      <td>22.000000</td>\n",
       "    </tr>\n",
       "    <tr>\n",
       "      <th>25%</th>\n",
       "      <td>13.811885</td>\n",
       "      <td>52.000000</td>\n",
       "      <td>9.041650</td>\n",
       "      <td>3169.750000</td>\n",
       "    </tr>\n",
       "    <tr>\n",
       "      <th>50%</th>\n",
       "      <td>20.465826</td>\n",
       "      <td>62.625000</td>\n",
       "      <td>12.125325</td>\n",
       "      <td>4548.500000</td>\n",
       "    </tr>\n",
       "    <tr>\n",
       "      <th>75%</th>\n",
       "      <td>26.880615</td>\n",
       "      <td>72.989575</td>\n",
       "      <td>15.625589</td>\n",
       "      <td>5966.000000</td>\n",
       "    </tr>\n",
       "    <tr>\n",
       "      <th>max</th>\n",
       "      <td>35.328347</td>\n",
       "      <td>97.250000</td>\n",
       "      <td>34.000021</td>\n",
       "      <td>8714.000000</td>\n",
       "    </tr>\n",
       "  </tbody>\n",
       "</table>\n",
       "</div>"
      ],
      "text/plain": [
       "             temp         hum   windspeed          cnt\n",
       "count  730.000000  730.000000  730.000000   730.000000\n",
       "mean    20.319259   62.765175   12.763620  4508.006849\n",
       "std      7.506729   14.237589    5.195841  1936.011647\n",
       "min      2.424346    0.000000    1.500244    22.000000\n",
       "25%     13.811885   52.000000    9.041650  3169.750000\n",
       "50%     20.465826   62.625000   12.125325  4548.500000\n",
       "75%     26.880615   72.989575   15.625589  5966.000000\n",
       "max     35.328347   97.250000   34.000021  8714.000000"
      ]
     },
     "execution_count": 11,
     "metadata": {},
     "output_type": "execute_result"
    }
   ],
   "source": [
    "# get insights of numeric variable\n",
    "df.describe()"
   ]
  },
  {
   "cell_type": "code",
   "execution_count": 12,
   "metadata": {
    "execution": {
     "iopub.execute_input": "2020-08-12T13:45:00.528048Z",
     "iopub.status.busy": "2020-08-12T13:45:00.527073Z",
     "iopub.status.idle": "2020-08-12T13:45:00.567879Z",
     "shell.execute_reply": "2020-08-12T13:45:00.567151Z"
    },
    "papermill": {
     "duration": 0.078764,
     "end_time": "2020-08-12T13:45:00.568001",
     "exception": false,
     "start_time": "2020-08-12T13:45:00.489237",
     "status": "completed"
    },
    "scrolled": true,
    "tags": []
   },
   "outputs": [
    {
     "data": {
      "text/html": [
       "<div>\n",
       "<style scoped>\n",
       "    .dataframe tbody tr th:only-of-type {\n",
       "        vertical-align: middle;\n",
       "    }\n",
       "\n",
       "    .dataframe tbody tr th {\n",
       "        vertical-align: top;\n",
       "    }\n",
       "\n",
       "    .dataframe thead th {\n",
       "        text-align: right;\n",
       "    }\n",
       "</style>\n",
       "<table border=\"1\" class=\"dataframe\">\n",
       "  <thead>\n",
       "    <tr style=\"text-align: right;\">\n",
       "      <th></th>\n",
       "      <th>season</th>\n",
       "      <th>yr</th>\n",
       "      <th>mnth</th>\n",
       "      <th>holiday</th>\n",
       "      <th>weekday</th>\n",
       "      <th>workingday</th>\n",
       "      <th>weathersit</th>\n",
       "    </tr>\n",
       "  </thead>\n",
       "  <tbody>\n",
       "    <tr>\n",
       "      <th>count</th>\n",
       "      <td>730</td>\n",
       "      <td>730</td>\n",
       "      <td>730</td>\n",
       "      <td>730</td>\n",
       "      <td>730</td>\n",
       "      <td>730</td>\n",
       "      <td>730</td>\n",
       "    </tr>\n",
       "    <tr>\n",
       "      <th>unique</th>\n",
       "      <td>4</td>\n",
       "      <td>2</td>\n",
       "      <td>12</td>\n",
       "      <td>2</td>\n",
       "      <td>7</td>\n",
       "      <td>2</td>\n",
       "      <td>3</td>\n",
       "    </tr>\n",
       "    <tr>\n",
       "      <th>top</th>\n",
       "      <td>3</td>\n",
       "      <td>1</td>\n",
       "      <td>12</td>\n",
       "      <td>0</td>\n",
       "      <td>2</td>\n",
       "      <td>1</td>\n",
       "      <td>1</td>\n",
       "    </tr>\n",
       "    <tr>\n",
       "      <th>freq</th>\n",
       "      <td>188</td>\n",
       "      <td>365</td>\n",
       "      <td>62</td>\n",
       "      <td>709</td>\n",
       "      <td>105</td>\n",
       "      <td>504</td>\n",
       "      <td>463</td>\n",
       "    </tr>\n",
       "  </tbody>\n",
       "</table>\n",
       "</div>"
      ],
      "text/plain": [
       "        season   yr  mnth  holiday  weekday  workingday  weathersit\n",
       "count      730  730   730      730      730         730         730\n",
       "unique       4    2    12        2        7           2           3\n",
       "top          3    1    12        0        2           1           1\n",
       "freq       188  365    62      709      105         504         463"
      ]
     },
     "execution_count": 12,
     "metadata": {},
     "output_type": "execute_result"
    }
   ],
   "source": [
    "# get the insights of categorical variables\n",
    "df.describe(include=['category'])"
   ]
  },
  {
   "cell_type": "markdown",
   "metadata": {
    "papermill": {
     "duration": 0.024527,
     "end_time": "2020-08-12T13:45:00.617613",
     "exception": false,
     "start_time": "2020-08-12T13:45:00.593086",
     "status": "completed"
    },
    "tags": []
   },
   "source": [
    "**Data Disctionary:**<br>\n",
    "Below categorical columns are having following catecteristics and can be maped with respective values:\n",
    "- `season` column is having four seasons as (1:spring, 2:summer, 3:fall, 4:winter)\n",
    "- `mnth` column is having 12 categorical values denoting for months Jan to Dec\n",
    "- `weathersit` is having for categorical values (1: Clear_FewClouds, 2: Mist_Cloudy, 3: LightSnow_LightRain, 4: HeavyRain_IcePallets)\n",
    "- `weekday` column having 7 varibles ( 0 to 6 ) denoting (0: Sun, 1: Mon 2: Tue, 3: Wed, 4: Thu, 5: Fri, 6: Sat) \n",
    "\n",
    "`yr`, `holiday`, `workingday` are having binary values. So we will not map these columns"
   ]
  },
  {
   "cell_type": "code",
   "execution_count": 13,
   "metadata": {
    "execution": {
     "iopub.execute_input": "2020-08-12T13:45:00.686687Z",
     "iopub.status.busy": "2020-08-12T13:45:00.685618Z",
     "iopub.status.idle": "2020-08-12T13:45:00.689148Z",
     "shell.execute_reply": "2020-08-12T13:45:00.688405Z"
    },
    "papermill": {
     "duration": 0.046857,
     "end_time": "2020-08-12T13:45:00.689276",
     "exception": false,
     "start_time": "2020-08-12T13:45:00.642419",
     "status": "completed"
    },
    "tags": []
   },
   "outputs": [],
   "source": [
    "# maped the season column according to descripttions\n",
    "df['season'] = df['season'].map({1:'spring', 2:'summer', 3:'fall', 4:'winter'})\n",
    "\n",
    "# maped the weekday column according to descriptin\n",
    "df['weekday'] = df['weekday'].map({0: 'Sun', 1: 'Mon', 2: 'Tue', 3: 'Wed', 4: 'Thu', 5: 'Fri', 6: 'Sat'})\n",
    "\n",
    "\n",
    "# maped mnth column values (1 to 12 ) as (jan to dec) respectively\n",
    "df['mnth'] = df['mnth'].map({1:'jan', 2:'feb', 3:'mar', 4:'apr', 5: 'may', 6: 'jun', 7: 'jul', 8: 'aug', 9: 'sep', 10: 'oct',\n",
    "                             11: 'nov', 12:'dec'})\n",
    "\n",
    "#  maped weathersit column\n",
    "df['weathersit'] = df['weathersit'].map({1: 'Clear_FewClouds', 2: 'Mist_Cloudy', 3: 'LightSnow_LightRain', 4: 'HeavyRain_IcePallets'})"
   ]
  },
  {
   "cell_type": "markdown",
   "metadata": {
    "papermill": {
     "duration": 0.02466,
     "end_time": "2020-08-12T13:45:00.738892",
     "exception": false,
     "start_time": "2020-08-12T13:45:00.714232",
     "status": "completed"
    },
    "tags": []
   },
   "source": [
    "### Step - 2. Data  Visualisation"
   ]
  },
  {
   "cell_type": "code",
   "execution_count": 14,
   "metadata": {
    "execution": {
     "iopub.execute_input": "2020-08-12T13:45:00.795220Z",
     "iopub.status.busy": "2020-08-12T13:45:00.794437Z",
     "iopub.status.idle": "2020-08-12T13:45:00.813345Z",
     "shell.execute_reply": "2020-08-12T13:45:00.812676Z"
    },
    "papermill": {
     "duration": 0.04972,
     "end_time": "2020-08-12T13:45:00.813471",
     "exception": false,
     "start_time": "2020-08-12T13:45:00.763751",
     "status": "completed"
    },
    "scrolled": false,
    "tags": []
   },
   "outputs": [
    {
     "name": "stdout",
     "output_type": "stream",
     "text": [
      "<class 'pandas.core.frame.DataFrame'>\n",
      "RangeIndex: 730 entries, 0 to 729\n",
      "Data columns (total 11 columns):\n",
      " #   Column      Non-Null Count  Dtype   \n",
      "---  ------      --------------  -----   \n",
      " 0   season      730 non-null    category\n",
      " 1   yr          730 non-null    category\n",
      " 2   mnth        730 non-null    category\n",
      " 3   holiday     730 non-null    category\n",
      " 4   weekday     730 non-null    category\n",
      " 5   workingday  730 non-null    category\n",
      " 6   weathersit  730 non-null    category\n",
      " 7   temp        730 non-null    float64 \n",
      " 8   hum         730 non-null    float64 \n",
      " 9   windspeed   730 non-null    float64 \n",
      " 10  cnt         730 non-null    int64   \n",
      "dtypes: category(7), float64(3), int64(1)\n",
      "memory usage: 29.3 KB\n"
     ]
    }
   ],
   "source": [
    "# Check the data info before proceeding for analysis\n",
    "df.info()"
   ]
  },
  {
   "cell_type": "markdown",
   "metadata": {
    "papermill": {
     "duration": 0.024987,
     "end_time": "2020-08-12T13:45:00.863656",
     "exception": false,
     "start_time": "2020-08-12T13:45:00.838669",
     "status": "completed"
    },
    "tags": []
   },
   "source": [
    "#### 2.1 Univariate analaysis"
   ]
  },
  {
   "cell_type": "code",
   "execution_count": 15,
   "metadata": {
    "execution": {
     "iopub.execute_input": "2020-08-12T13:45:00.919962Z",
     "iopub.status.busy": "2020-08-12T13:45:00.919172Z",
     "iopub.status.idle": "2020-08-12T13:45:01.170217Z",
     "shell.execute_reply": "2020-08-12T13:45:01.170800Z"
    },
    "papermill": {
     "duration": 0.282066,
     "end_time": "2020-08-12T13:45:01.170965",
     "exception": false,
     "start_time": "2020-08-12T13:45:00.888899",
     "status": "completed"
    },
    "scrolled": true,
    "tags": []
   },
   "outputs": [
    {
     "data": {
      "image/png": "[encoded data removed]",
      "text/plain": [
       "<Figure size 1440x360 with 1 Axes>"
      ]
     },
     "metadata": {
      "needs_background": "light"
     },
     "output_type": "display_data"
    }
   ],
   "source": [
    "# visualise the pattern of demand (target variable - 'cnt') over period of two years\n",
    "plt.figure(figsize=(20,5))\n",
    "plt.plot(df.cnt)\n",
    "plt.show()"
   ]
  },
  {
   "cell_type": "markdown",
   "metadata": {
    "papermill": {
     "duration": 0.025966,
     "end_time": "2020-08-12T13:45:01.223858",
     "exception": false,
     "start_time": "2020-08-12T13:45:01.197892",
     "status": "completed"
    },
    "tags": []
   },
   "source": [
    "Insights:\n",
    "- We can observe that there was growth over the period and recently we could see there is reduction in demand"
   ]
  },
  {
   "cell_type": "code",
   "execution_count": 16,
   "metadata": {
    "execution": {
     "iopub.execute_input": "2020-08-12T13:45:01.302592Z",
     "iopub.status.busy": "2020-08-12T13:45:01.300211Z",
     "iopub.status.idle": "2020-08-12T13:45:01.810939Z",
     "shell.execute_reply": "2020-08-12T13:45:01.810312Z"
    },
    "papermill": {
     "duration": 0.560643,
     "end_time": "2020-08-12T13:45:01.811061",
     "exception": false,
     "start_time": "2020-08-12T13:45:01.250418",
     "status": "completed"
    },
    "tags": []
   },
   "outputs": [
    {
     "data": {
      "image/png": "[encoded data removed]",
      "text/plain": [
       "<Figure size 864x576 with 4 Axes>"
      ]
     },
     "metadata": {
      "needs_background": "light"
     },
     "output_type": "display_data"
    }
   ],
   "source": [
    "# Visualising numerical varibles\n",
    "\n",
    "# selecting numerical variables\n",
    "var = df.select_dtypes(exclude = 'category').columns\n",
    "\n",
    "# Box plot\n",
    "col = 2\n",
    "row = len(var)//col+1\n",
    "\n",
    "plt.figure(figsize=(12,8))\n",
    "plt.rc('font', size=12)\n",
    "for i in list(enumerate(var)):\n",
    "    plt.subplot(row, col, i[0]+1)\n",
    "    sns.boxplot(df[i[1]])    \n",
    "plt.tight_layout()   \n",
    "plt.show()"
   ]
  },
  {
   "cell_type": "markdown",
   "metadata": {
    "papermill": {
     "duration": 0.026264,
     "end_time": "2020-08-12T13:45:01.863906",
     "exception": false,
     "start_time": "2020-08-12T13:45:01.837642",
     "status": "completed"
    },
    "tags": []
   },
   "source": [
    "Insights:\n",
    "- From the above plots it could be observed that `hum` and `windspeed` are having few outliers."
   ]
  },
  {
   "cell_type": "code",
   "execution_count": 17,
   "metadata": {
    "execution": {
     "iopub.execute_input": "2020-08-12T13:45:01.930604Z",
     "iopub.status.busy": "2020-08-12T13:45:01.929485Z",
     "iopub.status.idle": "2020-08-12T13:45:01.942010Z",
     "shell.execute_reply": "2020-08-12T13:45:01.942606Z"
    },
    "papermill": {
     "duration": 0.052146,
     "end_time": "2020-08-12T13:45:01.942765",
     "exception": false,
     "start_time": "2020-08-12T13:45:01.890619",
     "status": "completed"
    },
    "tags": []
   },
   "outputs": [
    {
     "name": "stdout",
     "output_type": "stream",
     "text": [
      "Percentage of outlier (hum):  0.27\n",
      "Percentage of outlier (windspeed):  1.78\n"
     ]
    }
   ],
   "source": [
    "# get percentage outlier for hum and windspeed\n",
    "\n",
    "# function to get outlier percentage\n",
    "def percentage_outlier(x):\n",
    "    iqr = df[x].quantile(0.75)-df[x].quantile(0.25)\n",
    "    HL = df[x].quantile(0.75)+iqr*1.5\n",
    "    LL = df[x].quantile(0.25)-iqr*1.5\n",
    "    per_outlier = ((df[x]<LL).sum()+(df[x]>HL).sum())/len(df[x])*100\n",
    "    per_outlier = round(per_outlier,2)\n",
    "    return(per_outlier)\n",
    "\n",
    "print('Percentage of outlier (hum): ', percentage_outlier('hum'))\n",
    "print('Percentage of outlier (windspeed): ', percentage_outlier('windspeed'))"
   ]
  },
  {
   "cell_type": "markdown",
   "metadata": {
    "papermill": {
     "duration": 0.026349,
     "end_time": "2020-08-12T13:45:01.995981",
     "exception": false,
     "start_time": "2020-08-12T13:45:01.969632",
     "status": "completed"
    },
    "tags": []
   },
   "source": [
    "Insights:\n",
    "- Percentage of outlier for `hum` and `windspeed` are `0.27` and `1.78` respectively.\n",
    "- As these percentage is low, and we can see there is no significant abnormal outlier value. So we will leave it as it is."
   ]
  },
  {
   "cell_type": "code",
   "execution_count": 18,
   "metadata": {
    "execution": {
     "iopub.execute_input": "2020-08-12T13:45:02.073593Z",
     "iopub.status.busy": "2020-08-12T13:45:02.072449Z",
     "iopub.status.idle": "2020-08-12T13:45:02.630502Z",
     "shell.execute_reply": "2020-08-12T13:45:02.631077Z"
    },
    "papermill": {
     "duration": 0.608317,
     "end_time": "2020-08-12T13:45:02.631255",
     "exception": false,
     "start_time": "2020-08-12T13:45:02.022938",
     "status": "completed"
    },
    "tags": []
   },
   "outputs": [
    {
     "data": {
      "image/png": "[encoded data removed]",
      "text/plain": [
       "<Figure size 1296x1152 with 7 Axes>"
      ]
     },
     "metadata": {},
     "output_type": "display_data"
    }
   ],
   "source": [
    "# # # Visulalising Categorical Variables using pie chart\n",
    "\n",
    "df_piplot=df.select_dtypes(include='category')\n",
    "plt.figure(figsize=(18,16))\n",
    "plt.suptitle('pie distribution of categorical features', fontsize=20)\n",
    "for i in range(1,df_piplot.shape[1]+1):\n",
    "    plt.subplot(3,3,i)\n",
    "    f=plt.gca()\n",
    "    f.set_title(df_piplot.columns.values[i-1])\n",
    "    values=df_piplot.iloc[:,i-1].value_counts(normalize=True).values\n",
    "    index=df_piplot.iloc[:,i-1].value_counts(normalize=True).index\n",
    "    plt.pie(values,labels=index,autopct='%1.0f%%')\n",
    "# plt.tight_layout(pad = 0.5)\n",
    "plt.show()"
   ]
  },
  {
   "cell_type": "code",
   "execution_count": 19,
   "metadata": {
    "execution": {
     "iopub.execute_input": "2020-08-12T13:45:02.696345Z",
     "iopub.status.busy": "2020-08-12T13:45:02.695268Z",
     "iopub.status.idle": "2020-08-12T13:45:02.698704Z",
     "shell.execute_reply": "2020-08-12T13:45:02.698134Z"
    },
    "papermill": {
     "duration": 0.038758,
     "end_time": "2020-08-12T13:45:02.698828",
     "exception": false,
     "start_time": "2020-08-12T13:45:02.660070",
     "status": "completed"
    },
    "tags": []
   },
   "outputs": [],
   "source": [
    "# # Visulalising Categorical Variables\n",
    "# # selecting categorical variables\n",
    "# var = df.select_dtypes(include='category').columns\n",
    "\n",
    "# # Box plot\n",
    "# col = 3\n",
    "# row = len(var)//col+1\n",
    "\n",
    "# plt.figure(figsize=(12,12))\n",
    "# # plt.rc('font', size=12)\n",
    "# for i in list(enumerate(var)):\n",
    "#     plt.subplot(row, col, i[0]+1)\n",
    "#     sns.countplot(df[i[1]])\n",
    "#     plt.xticks(rotation = 90)\n",
    "# plt.tight_layout(pad = 1.0)\n",
    "# plt.show()"
   ]
  },
  {
   "cell_type": "markdown",
   "metadata": {
    "papermill": {
     "duration": 0.073944,
     "end_time": "2020-08-12T13:45:02.800767",
     "exception": false,
     "start_time": "2020-08-12T13:45:02.726823",
     "status": "completed"
    },
    "tags": []
   },
   "source": [
    "**Insights:**\n",
    "- Seasons:   We could see business was operating similar days in all four seasons.\n",
    "- Yr:   Number of days operation in both the year are almost same.\n",
    "- Month: We could see business was operating similar days in all 12 months.\n",
    "- Holiday: Business was operating in 3% days of holiday\n",
    "- weekdays: We could see business was operating similar percentage in all weekdays.\n",
    "- Workingday: Bisuness was operating in 68% in workign days and 32% in nonworking days.\n",
    "- Weathersit: From the above analaysis it is being observed that there is no data for 4th category of `weathersit i.e Heavy Rain + Ice Pallets + Thunderstorm + Mist, Snow + Fog`.May be the company is not operating on those days or there was no demand of bike."
   ]
  },
  {
   "cell_type": "markdown",
   "metadata": {
    "papermill": {
     "duration": 0.027732,
     "end_time": "2020-08-12T13:45:02.856563",
     "exception": false,
     "start_time": "2020-08-12T13:45:02.828831",
     "status": "completed"
    },
    "tags": []
   },
   "source": [
    "#### 2.2 Bi-Variate analysis"
   ]
  },
  {
   "cell_type": "code",
   "execution_count": 20,
   "metadata": {
    "execution": {
     "iopub.execute_input": "2020-08-12T13:45:02.930083Z",
     "iopub.status.busy": "2020-08-12T13:45:02.923801Z",
     "iopub.status.idle": "2020-08-12T13:45:07.356224Z",
     "shell.execute_reply": "2020-08-12T13:45:07.356813Z"
    },
    "papermill": {
     "duration": 4.472472,
     "end_time": "2020-08-12T13:45:07.356980",
     "exception": false,
     "start_time": "2020-08-12T13:45:02.884508",
     "status": "completed"
    },
    "scrolled": false,
    "tags": []
   },
   "outputs": [
    {
     "data": {
      "image/png": "[encoded data removed]",
      "text/plain": [
       "<Figure size 720x720 with 20 Axes>"
      ]
     },
     "metadata": {
      "needs_background": "light"
     },
     "output_type": "display_data"
    }
   ],
   "source": [
    "# pairplot for continuous data type\n",
    "sns.pairplot(df.select_dtypes(['int64','float64']), diag_kind='kde')\n",
    "plt.show()"
   ]
  },
  {
   "cell_type": "markdown",
   "metadata": {
    "papermill": {
     "duration": 0.029732,
     "end_time": "2020-08-12T13:45:07.417283",
     "exception": false,
     "start_time": "2020-08-12T13:45:07.387551",
     "status": "completed"
    },
    "tags": []
   },
   "source": [
    "**Insights:**<br>\n",
    "From the above pairplot we could observe that, `temp` has highest positive correlation with target variable `cnt`."
   ]
  },
  {
   "cell_type": "code",
   "execution_count": 21,
   "metadata": {
    "execution": {
     "iopub.execute_input": "2020-08-12T13:45:07.491947Z",
     "iopub.status.busy": "2020-08-12T13:45:07.484441Z",
     "iopub.status.idle": "2020-08-12T13:45:07.714896Z",
     "shell.execute_reply": "2020-08-12T13:45:07.714218Z"
    },
    "papermill": {
     "duration": 0.267632,
     "end_time": "2020-08-12T13:45:07.715018",
     "exception": false,
     "start_time": "2020-08-12T13:45:07.447386",
     "status": "completed"
    },
    "scrolled": false,
    "tags": []
   },
   "outputs": [
    {
     "data": {
      "image/png": "[encoded data removed]",
      "text/plain": [
       "<Figure size 432x288 with 2 Axes>"
      ]
     },
     "metadata": {
      "needs_background": "light"
     },
     "output_type": "display_data"
    }
   ],
   "source": [
    "# look at the correaltion between continous varibales using heat map\n",
    "sns.heatmap(df.corr(), annot=True, cmap='coolwarm')\n",
    "plt.show()"
   ]
  },
  {
   "cell_type": "markdown",
   "metadata": {
    "papermill": {
     "duration": 0.031155,
     "end_time": "2020-08-12T13:45:07.776983",
     "exception": false,
     "start_time": "2020-08-12T13:45:07.745828",
     "status": "completed"
    },
    "tags": []
   },
   "source": [
    "We could infer follwing observation:\n",
    "> - A positive correalation observed between `cnt` and `temp` (0.63)\n",
    "> - A Negative correlation observed for `cnt` with `hum` and `windspeed` (-0.099 and -0.24)"
   ]
  },
  {
   "cell_type": "code",
   "execution_count": 22,
   "metadata": {
    "execution": {
     "iopub.execute_input": "2020-08-12T13:45:07.847545Z",
     "iopub.status.busy": "2020-08-12T13:45:07.846712Z",
     "iopub.status.idle": "2020-08-12T13:45:09.203987Z",
     "shell.execute_reply": "2020-08-12T13:45:09.203237Z"
    },
    "papermill": {
     "duration": 1.396636,
     "end_time": "2020-08-12T13:45:09.204131",
     "exception": false,
     "start_time": "2020-08-12T13:45:07.807495",
     "status": "completed"
    },
    "scrolled": false,
    "tags": []
   },
   "outputs": [
    {
     "data": {
      "image/png": "[encoded data removed]",
      "text/plain": [
       "<Figure size 1080x864 with 7 Axes>"
      ]
     },
     "metadata": {
      "needs_background": "light"
     },
     "output_type": "display_data"
    }
   ],
   "source": [
    "# Box plot for categorical variables\n",
    "col = 3\n",
    "row = len(cat_vars)//col+1\n",
    "\n",
    "plt.figure(figsize=(15,12))\n",
    "for i in list(enumerate(cat_vars)):\n",
    "    plt.subplot(row,col,i[0]+1)\n",
    "    sns.boxplot(x = i[1], y = 'cnt', data = df)\n",
    "    plt.xticks(rotation = 90)\n",
    "plt.tight_layout(pad = 1)    \n",
    "plt.show()"
   ]
  },
  {
   "cell_type": "markdown",
   "metadata": {
    "papermill": {
     "duration": 0.032135,
     "end_time": "2020-08-12T13:45:09.268499",
     "exception": false,
     "start_time": "2020-08-12T13:45:09.236364",
     "status": "completed"
    },
    "tags": []
   },
   "source": [
    "**Insights:**<br>\n",
    "Q. From your analysis of the categorical variables from the dataset, what could you infer about their effect on the dependent variable?\n",
    "\n",
    "Answer:\n",
    "- The demad of bike is less in the month of `spring` when compared with other seasons\n",
    "- The demand bike increased in the year 2019 when compared with year 2018.\n",
    "- Month Jun to Sep is the period when bike demand is high. The Month Jan is the lowest demand month.\n",
    "- Bike demand is less in holidays in comparison to not being holiday.\n",
    "- The demand of bike is almost similar throughout the weekdays.\n",
    "- There is no significant change in bike demand with workign day and non working day.\n",
    "- The bike demand is high when weather is `clear and Few clouds` however demand is less in case of `Lightsnow and light rainfall`. We do not have any dat for `Heavy Rain + Ice Pallets + Thunderstorm + Mist, Snow + Fog` , so we can not derive any conclusion. May be the company is not operating on those days or there is no demand of bike."
   ]
  },
  {
   "cell_type": "markdown",
   "metadata": {
    "papermill": {
     "duration": 0.031707,
     "end_time": "2020-08-12T13:45:09.332362",
     "exception": false,
     "start_time": "2020-08-12T13:45:09.300655",
     "status": "completed"
    },
    "tags": []
   },
   "source": [
    "### Step - 3. Data Preparation"
   ]
  },
  {
   "cell_type": "markdown",
   "metadata": {
    "papermill": {
     "duration": 0.031497,
     "end_time": "2020-08-12T13:45:09.396164",
     "exception": false,
     "start_time": "2020-08-12T13:45:09.364667",
     "status": "completed"
    },
    "tags": []
   },
   "source": [
    "### 3.1 Creating of dummy variables"
   ]
  },
  {
   "cell_type": "code",
   "execution_count": 23,
   "metadata": {
    "execution": {
     "iopub.execute_input": "2020-08-12T13:45:09.480031Z",
     "iopub.status.busy": "2020-08-12T13:45:09.478013Z",
     "iopub.status.idle": "2020-08-12T13:45:09.505615Z",
     "shell.execute_reply": "2020-08-12T13:45:09.505016Z"
    },
    "papermill": {
     "duration": 0.07782,
     "end_time": "2020-08-12T13:45:09.505743",
     "exception": false,
     "start_time": "2020-08-12T13:45:09.427923",
     "status": "completed"
    },
    "scrolled": true,
    "tags": []
   },
   "outputs": [
    {
     "data": {
      "text/html": [
       "<div>\n",
       "<style scoped>\n",
       "    .dataframe tbody tr th:only-of-type {\n",
       "        vertical-align: middle;\n",
       "    }\n",
       "\n",
       "    .dataframe tbody tr th {\n",
       "        vertical-align: top;\n",
       "    }\n",
       "\n",
       "    .dataframe thead th {\n",
       "        text-align: right;\n",
       "    }\n",
       "</style>\n",
       "<table border=\"1\" class=\"dataframe\">\n",
       "  <thead>\n",
       "    <tr style=\"text-align: right;\">\n",
       "      <th></th>\n",
       "      <th>yr</th>\n",
       "      <th>holiday</th>\n",
       "      <th>workingday</th>\n",
       "      <th>temp</th>\n",
       "      <th>hum</th>\n",
       "      <th>windspeed</th>\n",
       "      <th>cnt</th>\n",
       "      <th>season_summer</th>\n",
       "      <th>season_fall</th>\n",
       "      <th>season_winter</th>\n",
       "      <th>...</th>\n",
       "      <th>mnth_may</th>\n",
       "      <th>mnth_jun</th>\n",
       "      <th>mnth_jul</th>\n",
       "      <th>mnth_aug</th>\n",
       "      <th>mnth_sep</th>\n",
       "      <th>mnth_oct</th>\n",
       "      <th>mnth_nov</th>\n",
       "      <th>mnth_dec</th>\n",
       "      <th>weathersit_Mist_Cloudy</th>\n",
       "      <th>weathersit_LightSnow_LightRain</th>\n",
       "    </tr>\n",
       "  </thead>\n",
       "  <tbody>\n",
       "    <tr>\n",
       "      <th>0</th>\n",
       "      <td>0</td>\n",
       "      <td>0</td>\n",
       "      <td>1</td>\n",
       "      <td>14.110847</td>\n",
       "      <td>80.5833</td>\n",
       "      <td>10.749882</td>\n",
       "      <td>985</td>\n",
       "      <td>0</td>\n",
       "      <td>0</td>\n",
       "      <td>0</td>\n",
       "      <td>...</td>\n",
       "      <td>0</td>\n",
       "      <td>0</td>\n",
       "      <td>0</td>\n",
       "      <td>0</td>\n",
       "      <td>0</td>\n",
       "      <td>0</td>\n",
       "      <td>0</td>\n",
       "      <td>0</td>\n",
       "      <td>1</td>\n",
       "      <td>0</td>\n",
       "    </tr>\n",
       "    <tr>\n",
       "      <th>1</th>\n",
       "      <td>0</td>\n",
       "      <td>0</td>\n",
       "      <td>1</td>\n",
       "      <td>14.902598</td>\n",
       "      <td>69.6087</td>\n",
       "      <td>16.652113</td>\n",
       "      <td>801</td>\n",
       "      <td>0</td>\n",
       "      <td>0</td>\n",
       "      <td>0</td>\n",
       "      <td>...</td>\n",
       "      <td>0</td>\n",
       "      <td>0</td>\n",
       "      <td>0</td>\n",
       "      <td>0</td>\n",
       "      <td>0</td>\n",
       "      <td>0</td>\n",
       "      <td>0</td>\n",
       "      <td>0</td>\n",
       "      <td>1</td>\n",
       "      <td>0</td>\n",
       "    </tr>\n",
       "    <tr>\n",
       "      <th>2</th>\n",
       "      <td>0</td>\n",
       "      <td>0</td>\n",
       "      <td>1</td>\n",
       "      <td>8.050924</td>\n",
       "      <td>43.7273</td>\n",
       "      <td>16.636703</td>\n",
       "      <td>1349</td>\n",
       "      <td>0</td>\n",
       "      <td>0</td>\n",
       "      <td>0</td>\n",
       "      <td>...</td>\n",
       "      <td>0</td>\n",
       "      <td>0</td>\n",
       "      <td>0</td>\n",
       "      <td>0</td>\n",
       "      <td>0</td>\n",
       "      <td>0</td>\n",
       "      <td>0</td>\n",
       "      <td>0</td>\n",
       "      <td>0</td>\n",
       "      <td>0</td>\n",
       "    </tr>\n",
       "    <tr>\n",
       "      <th>3</th>\n",
       "      <td>0</td>\n",
       "      <td>0</td>\n",
       "      <td>1</td>\n",
       "      <td>8.200000</td>\n",
       "      <td>59.0435</td>\n",
       "      <td>10.739832</td>\n",
       "      <td>1562</td>\n",
       "      <td>0</td>\n",
       "      <td>0</td>\n",
       "      <td>0</td>\n",
       "      <td>...</td>\n",
       "      <td>0</td>\n",
       "      <td>0</td>\n",
       "      <td>0</td>\n",
       "      <td>0</td>\n",
       "      <td>0</td>\n",
       "      <td>0</td>\n",
       "      <td>0</td>\n",
       "      <td>0</td>\n",
       "      <td>0</td>\n",
       "      <td>0</td>\n",
       "    </tr>\n",
       "    <tr>\n",
       "      <th>4</th>\n",
       "      <td>0</td>\n",
       "      <td>0</td>\n",
       "      <td>1</td>\n",
       "      <td>9.305237</td>\n",
       "      <td>43.6957</td>\n",
       "      <td>12.522300</td>\n",
       "      <td>1600</td>\n",
       "      <td>0</td>\n",
       "      <td>0</td>\n",
       "      <td>0</td>\n",
       "      <td>...</td>\n",
       "      <td>0</td>\n",
       "      <td>0</td>\n",
       "      <td>0</td>\n",
       "      <td>0</td>\n",
       "      <td>0</td>\n",
       "      <td>0</td>\n",
       "      <td>0</td>\n",
       "      <td>0</td>\n",
       "      <td>0</td>\n",
       "      <td>0</td>\n",
       "    </tr>\n",
       "  </tbody>\n",
       "</table>\n",
       "<p>5 rows × 29 columns</p>\n",
       "</div>"
      ],
      "text/plain": [
       "  yr holiday workingday       temp      hum  windspeed   cnt  season_summer  \\\n",
       "0  0       0          1  14.110847  80.5833  10.749882   985              0   \n",
       "1  0       0          1  14.902598  69.6087  16.652113   801              0   \n",
       "2  0       0          1   8.050924  43.7273  16.636703  1349              0   \n",
       "3  0       0          1   8.200000  59.0435  10.739832  1562              0   \n",
       "4  0       0          1   9.305237  43.6957  12.522300  1600              0   \n",
       "\n",
       "   season_fall  season_winter  ...  mnth_may  mnth_jun  mnth_jul  mnth_aug  \\\n",
       "0            0              0  ...         0         0         0         0   \n",
       "1            0              0  ...         0         0         0         0   \n",
       "2            0              0  ...         0         0         0         0   \n",
       "3            0              0  ...         0         0         0         0   \n",
       "4            0              0  ...         0         0         0         0   \n",
       "\n",
       "   mnth_sep  mnth_oct  mnth_nov  mnth_dec  weathersit_Mist_Cloudy  \\\n",
       "0         0         0         0         0                       1   \n",
       "1         0         0         0         0                       1   \n",
       "2         0         0         0         0                       0   \n",
       "3         0         0         0         0                       0   \n",
       "4         0         0         0         0                       0   \n",
       "\n",
       "   weathersit_LightSnow_LightRain  \n",
       "0                               0  \n",
       "1                               0  \n",
       "2                               0  \n",
       "3                               0  \n",
       "4                               0  \n",
       "\n",
       "[5 rows x 29 columns]"
      ]
     },
     "execution_count": 23,
     "metadata": {},
     "output_type": "execute_result"
    }
   ],
   "source": [
    "# get dummy variables for season, weekday, mnth and weathersit\n",
    "dummy_vars = pd.get_dummies(df[['season','weekday','mnth','weathersit']],drop_first=True)\n",
    "\n",
    "# concat the dummy df with original df\n",
    "df = pd.concat([df,dummy_vars], axis = 1)\n",
    "\n",
    "# drop season column\n",
    "df.drop(['season','weekday','mnth','weathersit'], axis=1, inplace=True)\n",
    "\n",
    "df.head()"
   ]
  },
  {
   "cell_type": "code",
   "execution_count": 24,
   "metadata": {
    "execution": {
     "iopub.execute_input": "2020-08-12T13:45:09.575521Z",
     "iopub.status.busy": "2020-08-12T13:45:09.574700Z",
     "iopub.status.idle": "2020-08-12T13:45:09.579480Z",
     "shell.execute_reply": "2020-08-12T13:45:09.578756Z"
    },
    "papermill": {
     "duration": 0.041681,
     "end_time": "2020-08-12T13:45:09.579601",
     "exception": false,
     "start_time": "2020-08-12T13:45:09.537920",
     "status": "completed"
    },
    "scrolled": true,
    "tags": []
   },
   "outputs": [
    {
     "data": {
      "text/plain": [
       "(730, 29)"
      ]
     },
     "execution_count": 24,
     "metadata": {},
     "output_type": "execute_result"
    }
   ],
   "source": [
    "# check data frame\n",
    "df.shape"
   ]
  },
  {
   "cell_type": "code",
   "execution_count": 25,
   "metadata": {
    "execution": {
     "iopub.execute_input": "2020-08-12T13:45:09.660060Z",
     "iopub.status.busy": "2020-08-12T13:45:09.650738Z",
     "iopub.status.idle": "2020-08-12T13:45:09.664506Z",
     "shell.execute_reply": "2020-08-12T13:45:09.665349Z"
    },
    "papermill": {
     "duration": 0.0538,
     "end_time": "2020-08-12T13:45:09.665551",
     "exception": false,
     "start_time": "2020-08-12T13:45:09.611751",
     "status": "completed"
    },
    "scrolled": true,
    "tags": []
   },
   "outputs": [
    {
     "name": "stdout",
     "output_type": "stream",
     "text": [
      "<class 'pandas.core.frame.DataFrame'>\n",
      "RangeIndex: 730 entries, 0 to 729\n",
      "Data columns (total 29 columns):\n",
      " #   Column                          Non-Null Count  Dtype   \n",
      "---  ------                          --------------  -----   \n",
      " 0   yr                              730 non-null    category\n",
      " 1   holiday                         730 non-null    category\n",
      " 2   workingday                      730 non-null    category\n",
      " 3   temp                            730 non-null    float64 \n",
      " 4   hum                             730 non-null    float64 \n",
      " 5   windspeed                       730 non-null    float64 \n",
      " 6   cnt                             730 non-null    int64   \n",
      " 7   season_summer                   730 non-null    uint8   \n",
      " 8   season_fall                     730 non-null    uint8   \n",
      " 9   season_winter                   730 non-null    uint8   \n",
      " 10  weekday_Mon                     730 non-null    uint8   \n",
      " 11  weekday_Tue                     730 non-null    uint8   \n",
      " 12  weekday_Wed                     730 non-null    uint8   \n",
      " 13  weekday_Thu                     730 non-null    uint8   \n",
      " 14  weekday_Fri                     730 non-null    uint8   \n",
      " 15  weekday_Sat                     730 non-null    uint8   \n",
      " 16  mnth_feb                        730 non-null    uint8   \n",
      " 17  mnth_mar                        730 non-null    uint8   \n",
      " 18  mnth_apr                        730 non-null    uint8   \n",
      " 19  mnth_may                        730 non-null    uint8   \n",
      " 20  mnth_jun                        730 non-null    uint8   \n",
      " 21  mnth_jul                        730 non-null    uint8   \n",
      " 22  mnth_aug                        730 non-null    uint8   \n",
      " 23  mnth_sep                        730 non-null    uint8   \n",
      " 24  mnth_oct                        730 non-null    uint8   \n",
      " 25  mnth_nov                        730 non-null    uint8   \n",
      " 26  mnth_dec                        730 non-null    uint8   \n",
      " 27  weathersit_Mist_Cloudy          730 non-null    uint8   \n",
      " 28  weathersit_LightSnow_LightRain  730 non-null    uint8   \n",
      "dtypes: category(3), float64(3), int64(1), uint8(22)\n",
      "memory usage: 41.0 KB\n"
     ]
    }
   ],
   "source": [
    "# Check datafrmae\n",
    "df.info()"
   ]
  },
  {
   "cell_type": "markdown",
   "metadata": {
    "papermill": {
     "duration": 0.031845,
     "end_time": "2020-08-12T13:45:09.730813",
     "exception": false,
     "start_time": "2020-08-12T13:45:09.698968",
     "status": "completed"
    },
    "tags": []
   },
   "source": [
    "yr, holiday and workign day columns are showing datatype 'categorical' but these data  are 0 and 1. So we will convert these data type to `uint8`"
   ]
  },
  {
   "cell_type": "code",
   "execution_count": 26,
   "metadata": {
    "execution": {
     "iopub.execute_input": "2020-08-12T13:45:09.805317Z",
     "iopub.status.busy": "2020-08-12T13:45:09.804495Z",
     "iopub.status.idle": "2020-08-12T13:45:09.817994Z",
     "shell.execute_reply": "2020-08-12T13:45:09.817384Z"
    },
    "papermill": {
     "duration": 0.055053,
     "end_time": "2020-08-12T13:45:09.818135",
     "exception": false,
     "start_time": "2020-08-12T13:45:09.763082",
     "status": "completed"
    },
    "scrolled": true,
    "tags": []
   },
   "outputs": [
    {
     "name": "stdout",
     "output_type": "stream",
     "text": [
      "<class 'pandas.core.frame.DataFrame'>\n",
      "RangeIndex: 730 entries, 0 to 729\n",
      "Data columns (total 29 columns):\n",
      " #   Column                          Non-Null Count  Dtype  \n",
      "---  ------                          --------------  -----  \n",
      " 0   yr                              730 non-null    uint8  \n",
      " 1   holiday                         730 non-null    uint8  \n",
      " 2   workingday                      730 non-null    uint8  \n",
      " 3   temp                            730 non-null    float64\n",
      " 4   hum                             730 non-null    float64\n",
      " 5   windspeed                       730 non-null    float64\n",
      " 6   cnt                             730 non-null    int64  \n",
      " 7   season_summer                   730 non-null    uint8  \n",
      " 8   season_fall                     730 non-null    uint8  \n",
      " 9   season_winter                   730 non-null    uint8  \n",
      " 10  weekday_Mon                     730 non-null    uint8  \n",
      " 11  weekday_Tue                     730 non-null    uint8  \n",
      " 12  weekday_Wed                     730 non-null    uint8  \n",
      " 13  weekday_Thu                     730 non-null    uint8  \n",
      " 14  weekday_Fri                     730 non-null    uint8  \n",
      " 15  weekday_Sat                     730 non-null    uint8  \n",
      " 16  mnth_feb                        730 non-null    uint8  \n",
      " 17  mnth_mar                        730 non-null    uint8  \n",
      " 18  mnth_apr                        730 non-null    uint8  \n",
      " 19  mnth_may                        730 non-null    uint8  \n",
      " 20  mnth_jun                        730 non-null    uint8  \n",
      " 21  mnth_jul                        730 non-null    uint8  \n",
      " 22  mnth_aug                        730 non-null    uint8  \n",
      " 23  mnth_sep                        730 non-null    uint8  \n",
      " 24  mnth_oct                        730 non-null    uint8  \n",
      " 25  mnth_nov                        730 non-null    uint8  \n",
      " 26  mnth_dec                        730 non-null    uint8  \n",
      " 27  weathersit_Mist_Cloudy          730 non-null    uint8  \n",
      " 28  weathersit_LightSnow_LightRain  730 non-null    uint8  \n",
      "dtypes: float64(3), int64(1), uint8(25)\n",
      "memory usage: 40.8 KB\n"
     ]
    }
   ],
   "source": [
    "# Convert categorical columns to numeric \n",
    "df[['yr','holiday','workingday']]= df[['yr','holiday','workingday']].astype('uint8')\n",
    "df.info()"
   ]
  },
  {
   "cell_type": "markdown",
   "metadata": {
    "papermill": {
     "duration": 0.032404,
     "end_time": "2020-08-12T13:45:09.883248",
     "exception": false,
     "start_time": "2020-08-12T13:45:09.850844",
     "status": "completed"
    },
    "tags": []
   },
   "source": [
    "### 3.2 Splitting data into test and train set "
   ]
  },
  {
   "cell_type": "code",
   "execution_count": 27,
   "metadata": {
    "execution": {
     "iopub.execute_input": "2020-08-12T13:45:09.955947Z",
     "iopub.status.busy": "2020-08-12T13:45:09.954943Z",
     "iopub.status.idle": "2020-08-12T13:45:09.960369Z",
     "shell.execute_reply": "2020-08-12T13:45:09.959654Z"
    },
    "papermill": {
     "duration": 0.044807,
     "end_time": "2020-08-12T13:45:09.960488",
     "exception": false,
     "start_time": "2020-08-12T13:45:09.915681",
     "status": "completed"
    },
    "tags": []
   },
   "outputs": [
    {
     "name": "stdout",
     "output_type": "stream",
     "text": [
      "(510, 29)\n",
      "(220, 29)\n"
     ]
    }
   ],
   "source": [
    "# Split train test dataset\n",
    "df_train, df_test = train_test_split(df, train_size = 0.7, random_state = 10 )\n",
    "print(df_train.shape)\n",
    "print(df_test.shape)"
   ]
  },
  {
   "cell_type": "markdown",
   "metadata": {
    "papermill": {
     "duration": 0.032842,
     "end_time": "2020-08-12T13:45:10.026074",
     "exception": false,
     "start_time": "2020-08-12T13:45:09.993232",
     "status": "completed"
    },
    "tags": []
   },
   "source": [
    "### 3.3 Scaling of data set"
   ]
  },
  {
   "cell_type": "markdown",
   "metadata": {
    "papermill": {
     "duration": 0.033002,
     "end_time": "2020-08-12T13:45:10.092142",
     "exception": false,
     "start_time": "2020-08-12T13:45:10.059140",
     "status": "completed"
    },
    "tags": []
   },
   "source": [
    "- During EDA we could observe that there is different range of data in the data set. So it becomes important to scale the data. \n",
    "- Here we will be using Min-Max scaling (normalisation) to scale both training and tesing dataset."
   ]
  },
  {
   "cell_type": "markdown",
   "metadata": {
    "papermill": {
     "duration": 0.032589,
     "end_time": "2020-08-12T13:45:10.157780",
     "exception": false,
     "start_time": "2020-08-12T13:45:10.125191",
     "status": "completed"
    },
    "tags": []
   },
   "source": [
    "**Training Data scaling**"
   ]
  },
  {
   "cell_type": "code",
   "execution_count": 28,
   "metadata": {
    "execution": {
     "iopub.execute_input": "2020-08-12T13:45:10.258523Z",
     "iopub.status.busy": "2020-08-12T13:45:10.257458Z",
     "iopub.status.idle": "2020-08-12T13:45:10.261901Z",
     "shell.execute_reply": "2020-08-12T13:45:10.262447Z"
    },
    "papermill": {
     "duration": 0.071623,
     "end_time": "2020-08-12T13:45:10.262611",
     "exception": false,
     "start_time": "2020-08-12T13:45:10.190988",
     "status": "completed"
    },
    "scrolled": true,
    "tags": []
   },
   "outputs": [
    {
     "data": {
      "text/html": [
       "<div>\n",
       "<style scoped>\n",
       "    .dataframe tbody tr th:only-of-type {\n",
       "        vertical-align: middle;\n",
       "    }\n",
       "\n",
       "    .dataframe tbody tr th {\n",
       "        vertical-align: top;\n",
       "    }\n",
       "\n",
       "    .dataframe thead th {\n",
       "        text-align: right;\n",
       "    }\n",
       "</style>\n",
       "<table border=\"1\" class=\"dataframe\">\n",
       "  <thead>\n",
       "    <tr style=\"text-align: right;\">\n",
       "      <th></th>\n",
       "      <th>yr</th>\n",
       "      <th>holiday</th>\n",
       "      <th>workingday</th>\n",
       "      <th>temp</th>\n",
       "      <th>hum</th>\n",
       "      <th>windspeed</th>\n",
       "      <th>cnt</th>\n",
       "      <th>season_summer</th>\n",
       "      <th>season_fall</th>\n",
       "      <th>season_winter</th>\n",
       "      <th>...</th>\n",
       "      <th>mnth_may</th>\n",
       "      <th>mnth_jun</th>\n",
       "      <th>mnth_jul</th>\n",
       "      <th>mnth_aug</th>\n",
       "      <th>mnth_sep</th>\n",
       "      <th>mnth_oct</th>\n",
       "      <th>mnth_nov</th>\n",
       "      <th>mnth_dec</th>\n",
       "      <th>weathersit_Mist_Cloudy</th>\n",
       "      <th>weathersit_LightSnow_LightRain</th>\n",
       "    </tr>\n",
       "  </thead>\n",
       "  <tbody>\n",
       "    <tr>\n",
       "      <th>72</th>\n",
       "      <td>0</td>\n",
       "      <td>0</td>\n",
       "      <td>1</td>\n",
       "      <td>0.298094</td>\n",
       "      <td>0.393891</td>\n",
       "      <td>0.236118</td>\n",
       "      <td>0.194978</td>\n",
       "      <td>0</td>\n",
       "      <td>0</td>\n",
       "      <td>0</td>\n",
       "      <td>...</td>\n",
       "      <td>0</td>\n",
       "      <td>0</td>\n",
       "      <td>0</td>\n",
       "      <td>0</td>\n",
       "      <td>0</td>\n",
       "      <td>0</td>\n",
       "      <td>0</td>\n",
       "      <td>0</td>\n",
       "      <td>0</td>\n",
       "      <td>0</td>\n",
       "    </tr>\n",
       "    <tr>\n",
       "      <th>510</th>\n",
       "      <td>1</td>\n",
       "      <td>0</td>\n",
       "      <td>0</td>\n",
       "      <td>0.778657</td>\n",
       "      <td>0.694105</td>\n",
       "      <td>0.364071</td>\n",
       "      <td>0.737052</td>\n",
       "      <td>1</td>\n",
       "      <td>0</td>\n",
       "      <td>0</td>\n",
       "      <td>...</td>\n",
       "      <td>1</td>\n",
       "      <td>0</td>\n",
       "      <td>0</td>\n",
       "      <td>0</td>\n",
       "      <td>0</td>\n",
       "      <td>0</td>\n",
       "      <td>0</td>\n",
       "      <td>0</td>\n",
       "      <td>0</td>\n",
       "      <td>0</td>\n",
       "    </tr>\n",
       "    <tr>\n",
       "      <th>700</th>\n",
       "      <td>1</td>\n",
       "      <td>0</td>\n",
       "      <td>1</td>\n",
       "      <td>0.327249</td>\n",
       "      <td>0.809877</td>\n",
       "      <td>0.210252</td>\n",
       "      <td>0.509236</td>\n",
       "      <td>0</td>\n",
       "      <td>0</td>\n",
       "      <td>1</td>\n",
       "      <td>...</td>\n",
       "      <td>0</td>\n",
       "      <td>0</td>\n",
       "      <td>0</td>\n",
       "      <td>0</td>\n",
       "      <td>0</td>\n",
       "      <td>0</td>\n",
       "      <td>0</td>\n",
       "      <td>1</td>\n",
       "      <td>1</td>\n",
       "      <td>0</td>\n",
       "    </tr>\n",
       "    <tr>\n",
       "      <th>264</th>\n",
       "      <td>0</td>\n",
       "      <td>0</td>\n",
       "      <td>0</td>\n",
       "      <td>0.694699</td>\n",
       "      <td>0.910249</td>\n",
       "      <td>0.217975</td>\n",
       "      <td>0.526862</td>\n",
       "      <td>0</td>\n",
       "      <td>1</td>\n",
       "      <td>0</td>\n",
       "      <td>...</td>\n",
       "      <td>0</td>\n",
       "      <td>0</td>\n",
       "      <td>0</td>\n",
       "      <td>0</td>\n",
       "      <td>1</td>\n",
       "      <td>0</td>\n",
       "      <td>0</td>\n",
       "      <td>0</td>\n",
       "      <td>1</td>\n",
       "      <td>0</td>\n",
       "    </tr>\n",
       "    <tr>\n",
       "      <th>577</th>\n",
       "      <td>1</td>\n",
       "      <td>0</td>\n",
       "      <td>1</td>\n",
       "      <td>0.811368</td>\n",
       "      <td>0.624004</td>\n",
       "      <td>0.244886</td>\n",
       "      <td>0.863093</td>\n",
       "      <td>0</td>\n",
       "      <td>1</td>\n",
       "      <td>0</td>\n",
       "      <td>...</td>\n",
       "      <td>0</td>\n",
       "      <td>0</td>\n",
       "      <td>0</td>\n",
       "      <td>1</td>\n",
       "      <td>0</td>\n",
       "      <td>0</td>\n",
       "      <td>0</td>\n",
       "      <td>0</td>\n",
       "      <td>0</td>\n",
       "      <td>0</td>\n",
       "    </tr>\n",
       "  </tbody>\n",
       "</table>\n",
       "<p>5 rows × 29 columns</p>\n",
       "</div>"
      ],
      "text/plain": [
       "     yr  holiday  workingday      temp       hum  windspeed       cnt  \\\n",
       "72    0        0           1  0.298094  0.393891   0.236118  0.194978   \n",
       "510   1        0           0  0.778657  0.694105   0.364071  0.737052   \n",
       "700   1        0           1  0.327249  0.809877   0.210252  0.509236   \n",
       "264   0        0           0  0.694699  0.910249   0.217975  0.526862   \n",
       "577   1        0           1  0.811368  0.624004   0.244886  0.863093   \n",
       "\n",
       "     season_summer  season_fall  season_winter  ...  mnth_may  mnth_jun  \\\n",
       "72               0            0              0  ...         0         0   \n",
       "510              1            0              0  ...         1         0   \n",
       "700              0            0              1  ...         0         0   \n",
       "264              0            1              0  ...         0         0   \n",
       "577              0            1              0  ...         0         0   \n",
       "\n",
       "     mnth_jul  mnth_aug  mnth_sep  mnth_oct  mnth_nov  mnth_dec  \\\n",
       "72          0         0         0         0         0         0   \n",
       "510         0         0         0         0         0         0   \n",
       "700         0         0         0         0         0         1   \n",
       "264         0         0         1         0         0         0   \n",
       "577         0         1         0         0         0         0   \n",
       "\n",
       "     weathersit_Mist_Cloudy  weathersit_LightSnow_LightRain  \n",
       "72                        0                               0  \n",
       "510                       0                               0  \n",
       "700                       1                               0  \n",
       "264                       1                               0  \n",
       "577                       0                               0  \n",
       "\n",
       "[5 rows x 29 columns]"
      ]
     },
     "execution_count": 28,
     "metadata": {},
     "output_type": "execute_result"
    }
   ],
   "source": [
    "# Scaling of train set\n",
    "\n",
    "# instantiate an object\n",
    "scaler = MinMaxScaler()\n",
    "\n",
    "# fit and transform on training data\n",
    "df_train[num_vars] = scaler.fit_transform(df_train[num_vars])\n",
    "df_train.head()"
   ]
  },
  {
   "cell_type": "markdown",
   "metadata": {
    "papermill": {
     "duration": 0.033395,
     "end_time": "2020-08-12T13:45:10.329583",
     "exception": false,
     "start_time": "2020-08-12T13:45:10.296188",
     "status": "completed"
    },
    "tags": []
   },
   "source": [
    "**Testing data scaling**"
   ]
  },
  {
   "cell_type": "code",
   "execution_count": 29,
   "metadata": {
    "execution": {
     "iopub.execute_input": "2020-08-12T13:45:10.419834Z",
     "iopub.status.busy": "2020-08-12T13:45:10.411242Z",
     "iopub.status.idle": "2020-08-12T13:45:10.424254Z",
     "shell.execute_reply": "2020-08-12T13:45:10.424836Z"
    },
    "papermill": {
     "duration": 0.061833,
     "end_time": "2020-08-12T13:45:10.424998",
     "exception": false,
     "start_time": "2020-08-12T13:45:10.363165",
     "status": "completed"
    },
    "tags": []
   },
   "outputs": [
    {
     "data": {
      "text/html": [
       "<div>\n",
       "<style scoped>\n",
       "    .dataframe tbody tr th:only-of-type {\n",
       "        vertical-align: middle;\n",
       "    }\n",
       "\n",
       "    .dataframe tbody tr th {\n",
       "        vertical-align: top;\n",
       "    }\n",
       "\n",
       "    .dataframe thead th {\n",
       "        text-align: right;\n",
       "    }\n",
       "</style>\n",
       "<table border=\"1\" class=\"dataframe\">\n",
       "  <thead>\n",
       "    <tr style=\"text-align: right;\">\n",
       "      <th></th>\n",
       "      <th>yr</th>\n",
       "      <th>holiday</th>\n",
       "      <th>workingday</th>\n",
       "      <th>temp</th>\n",
       "      <th>hum</th>\n",
       "      <th>windspeed</th>\n",
       "      <th>cnt</th>\n",
       "      <th>season_summer</th>\n",
       "      <th>season_fall</th>\n",
       "      <th>season_winter</th>\n",
       "      <th>...</th>\n",
       "      <th>mnth_may</th>\n",
       "      <th>mnth_jun</th>\n",
       "      <th>mnth_jul</th>\n",
       "      <th>mnth_aug</th>\n",
       "      <th>mnth_sep</th>\n",
       "      <th>mnth_oct</th>\n",
       "      <th>mnth_nov</th>\n",
       "      <th>mnth_dec</th>\n",
       "      <th>weathersit_Mist_Cloudy</th>\n",
       "      <th>weathersit_LightSnow_LightRain</th>\n",
       "    </tr>\n",
       "  </thead>\n",
       "  <tbody>\n",
       "    <tr>\n",
       "      <th>566</th>\n",
       "      <td>1</td>\n",
       "      <td>0</td>\n",
       "      <td>0</td>\n",
       "      <td>24.429153</td>\n",
       "      <td>86.5417</td>\n",
       "      <td>14.291100</td>\n",
       "      <td>4459</td>\n",
       "      <td>0</td>\n",
       "      <td>1</td>\n",
       "      <td>0</td>\n",
       "      <td>...</td>\n",
       "      <td>0</td>\n",
       "      <td>0</td>\n",
       "      <td>1</td>\n",
       "      <td>0</td>\n",
       "      <td>0</td>\n",
       "      <td>0</td>\n",
       "      <td>0</td>\n",
       "      <td>0</td>\n",
       "      <td>0</td>\n",
       "      <td>1</td>\n",
       "    </tr>\n",
       "    <tr>\n",
       "      <th>374</th>\n",
       "      <td>1</td>\n",
       "      <td>0</td>\n",
       "      <td>1</td>\n",
       "      <td>12.656536</td>\n",
       "      <td>64.6522</td>\n",
       "      <td>12.565984</td>\n",
       "      <td>3598</td>\n",
       "      <td>0</td>\n",
       "      <td>0</td>\n",
       "      <td>0</td>\n",
       "      <td>...</td>\n",
       "      <td>0</td>\n",
       "      <td>0</td>\n",
       "      <td>0</td>\n",
       "      <td>0</td>\n",
       "      <td>0</td>\n",
       "      <td>0</td>\n",
       "      <td>0</td>\n",
       "      <td>0</td>\n",
       "      <td>0</td>\n",
       "      <td>0</td>\n",
       "    </tr>\n",
       "    <tr>\n",
       "      <th>181</th>\n",
       "      <td>0</td>\n",
       "      <td>0</td>\n",
       "      <td>0</td>\n",
       "      <td>29.622500</td>\n",
       "      <td>39.6250</td>\n",
       "      <td>6.874736</td>\n",
       "      <td>5362</td>\n",
       "      <td>0</td>\n",
       "      <td>1</td>\n",
       "      <td>0</td>\n",
       "      <td>...</td>\n",
       "      <td>0</td>\n",
       "      <td>0</td>\n",
       "      <td>1</td>\n",
       "      <td>0</td>\n",
       "      <td>0</td>\n",
       "      <td>0</td>\n",
       "      <td>0</td>\n",
       "      <td>0</td>\n",
       "      <td>0</td>\n",
       "      <td>0</td>\n",
       "    </tr>\n",
       "    <tr>\n",
       "      <th>529</th>\n",
       "      <td>1</td>\n",
       "      <td>0</td>\n",
       "      <td>1</td>\n",
       "      <td>26.581653</td>\n",
       "      <td>56.9583</td>\n",
       "      <td>17.000111</td>\n",
       "      <td>7363</td>\n",
       "      <td>1</td>\n",
       "      <td>0</td>\n",
       "      <td>0</td>\n",
       "      <td>...</td>\n",
       "      <td>0</td>\n",
       "      <td>1</td>\n",
       "      <td>0</td>\n",
       "      <td>0</td>\n",
       "      <td>0</td>\n",
       "      <td>0</td>\n",
       "      <td>0</td>\n",
       "      <td>0</td>\n",
       "      <td>0</td>\n",
       "      <td>0</td>\n",
       "    </tr>\n",
       "    <tr>\n",
       "      <th>233</th>\n",
       "      <td>0</td>\n",
       "      <td>0</td>\n",
       "      <td>1</td>\n",
       "      <td>28.358347</td>\n",
       "      <td>47.0000</td>\n",
       "      <td>18.542250</td>\n",
       "      <td>4758</td>\n",
       "      <td>0</td>\n",
       "      <td>1</td>\n",
       "      <td>0</td>\n",
       "      <td>...</td>\n",
       "      <td>0</td>\n",
       "      <td>0</td>\n",
       "      <td>0</td>\n",
       "      <td>1</td>\n",
       "      <td>0</td>\n",
       "      <td>0</td>\n",
       "      <td>0</td>\n",
       "      <td>0</td>\n",
       "      <td>0</td>\n",
       "      <td>0</td>\n",
       "    </tr>\n",
       "  </tbody>\n",
       "</table>\n",
       "<p>5 rows × 29 columns</p>\n",
       "</div>"
      ],
      "text/plain": [
       "     yr  holiday  workingday       temp      hum  windspeed   cnt  \\\n",
       "566   1        0           0  24.429153  86.5417  14.291100  4459   \n",
       "374   1        0           1  12.656536  64.6522  12.565984  3598   \n",
       "181   0        0           0  29.622500  39.6250   6.874736  5362   \n",
       "529   1        0           1  26.581653  56.9583  17.000111  7363   \n",
       "233   0        0           1  28.358347  47.0000  18.542250  4758   \n",
       "\n",
       "     season_summer  season_fall  season_winter  ...  mnth_may  mnth_jun  \\\n",
       "566              0            1              0  ...         0         0   \n",
       "374              0            0              0  ...         0         0   \n",
       "181              0            1              0  ...         0         0   \n",
       "529              1            0              0  ...         0         1   \n",
       "233              0            1              0  ...         0         0   \n",
       "\n",
       "     mnth_jul  mnth_aug  mnth_sep  mnth_oct  mnth_nov  mnth_dec  \\\n",
       "566         1         0         0         0         0         0   \n",
       "374         0         0         0         0         0         0   \n",
       "181         1         0         0         0         0         0   \n",
       "529         0         0         0         0         0         0   \n",
       "233         0         1         0         0         0         0   \n",
       "\n",
       "     weathersit_Mist_Cloudy  weathersit_LightSnow_LightRain  \n",
       "566                       0                               1  \n",
       "374                       0                               0  \n",
       "181                       0                               0  \n",
       "529                       0                               0  \n",
       "233                       0                               0  \n",
       "\n",
       "[5 rows x 29 columns]"
      ]
     },
     "execution_count": 29,
     "metadata": {},
     "output_type": "execute_result"
    }
   ],
   "source": [
    "# check test dataset before scaling\n",
    "df_test.head()"
   ]
  },
  {
   "cell_type": "code",
   "execution_count": 30,
   "metadata": {
    "execution": {
     "iopub.execute_input": "2020-08-12T13:45:10.523414Z",
     "iopub.status.busy": "2020-08-12T13:45:10.522624Z",
     "iopub.status.idle": "2020-08-12T13:45:10.527757Z",
     "shell.execute_reply": "2020-08-12T13:45:10.527180Z"
    },
    "papermill": {
     "duration": 0.068782,
     "end_time": "2020-08-12T13:45:10.527897",
     "exception": false,
     "start_time": "2020-08-12T13:45:10.459115",
     "status": "completed"
    },
    "tags": []
   },
   "outputs": [
    {
     "data": {
      "text/html": [
       "<div>\n",
       "<style scoped>\n",
       "    .dataframe tbody tr th:only-of-type {\n",
       "        vertical-align: middle;\n",
       "    }\n",
       "\n",
       "    .dataframe tbody tr th {\n",
       "        vertical-align: top;\n",
       "    }\n",
       "\n",
       "    .dataframe thead th {\n",
       "        text-align: right;\n",
       "    }\n",
       "</style>\n",
       "<table border=\"1\" class=\"dataframe\">\n",
       "  <thead>\n",
       "    <tr style=\"text-align: right;\">\n",
       "      <th></th>\n",
       "      <th>yr</th>\n",
       "      <th>holiday</th>\n",
       "      <th>workingday</th>\n",
       "      <th>temp</th>\n",
       "      <th>hum</th>\n",
       "      <th>windspeed</th>\n",
       "      <th>cnt</th>\n",
       "      <th>season_summer</th>\n",
       "      <th>season_fall</th>\n",
       "      <th>season_winter</th>\n",
       "      <th>...</th>\n",
       "      <th>mnth_may</th>\n",
       "      <th>mnth_jun</th>\n",
       "      <th>mnth_jul</th>\n",
       "      <th>mnth_aug</th>\n",
       "      <th>mnth_sep</th>\n",
       "      <th>mnth_oct</th>\n",
       "      <th>mnth_nov</th>\n",
       "      <th>mnth_dec</th>\n",
       "      <th>weathersit_Mist_Cloudy</th>\n",
       "      <th>weathersit_LightSnow_LightRain</th>\n",
       "    </tr>\n",
       "  </thead>\n",
       "  <tbody>\n",
       "    <tr>\n",
       "      <th>566</th>\n",
       "      <td>1</td>\n",
       "      <td>0</td>\n",
       "      <td>0</td>\n",
       "      <td>0.652175</td>\n",
       "      <td>0.863516</td>\n",
       "      <td>0.393568</td>\n",
       "      <td>0.486297</td>\n",
       "      <td>0</td>\n",
       "      <td>1</td>\n",
       "      <td>0</td>\n",
       "      <td>...</td>\n",
       "      <td>0</td>\n",
       "      <td>0</td>\n",
       "      <td>1</td>\n",
       "      <td>0</td>\n",
       "      <td>0</td>\n",
       "      <td>0</td>\n",
       "      <td>0</td>\n",
       "      <td>0</td>\n",
       "      <td>0</td>\n",
       "      <td>1</td>\n",
       "    </tr>\n",
       "    <tr>\n",
       "      <th>374</th>\n",
       "      <td>1</td>\n",
       "      <td>0</td>\n",
       "      <td>1</td>\n",
       "      <td>0.276477</td>\n",
       "      <td>0.584521</td>\n",
       "      <td>0.340487</td>\n",
       "      <td>0.382349</td>\n",
       "      <td>0</td>\n",
       "      <td>0</td>\n",
       "      <td>0</td>\n",
       "      <td>...</td>\n",
       "      <td>0</td>\n",
       "      <td>0</td>\n",
       "      <td>0</td>\n",
       "      <td>0</td>\n",
       "      <td>0</td>\n",
       "      <td>0</td>\n",
       "      <td>0</td>\n",
       "      <td>0</td>\n",
       "      <td>0</td>\n",
       "      <td>0</td>\n",
       "    </tr>\n",
       "    <tr>\n",
       "      <th>181</th>\n",
       "      <td>0</td>\n",
       "      <td>0</td>\n",
       "      <td>0</td>\n",
       "      <td>0.817910</td>\n",
       "      <td>0.265533</td>\n",
       "      <td>0.165370</td>\n",
       "      <td>0.595316</td>\n",
       "      <td>0</td>\n",
       "      <td>1</td>\n",
       "      <td>0</td>\n",
       "      <td>...</td>\n",
       "      <td>0</td>\n",
       "      <td>0</td>\n",
       "      <td>1</td>\n",
       "      <td>0</td>\n",
       "      <td>0</td>\n",
       "      <td>0</td>\n",
       "      <td>0</td>\n",
       "      <td>0</td>\n",
       "      <td>0</td>\n",
       "      <td>0</td>\n",
       "    </tr>\n",
       "    <tr>\n",
       "      <th>529</th>\n",
       "      <td>1</td>\n",
       "      <td>0</td>\n",
       "      <td>1</td>\n",
       "      <td>0.720868</td>\n",
       "      <td>0.486457</td>\n",
       "      <td>0.476922</td>\n",
       "      <td>0.836895</td>\n",
       "      <td>1</td>\n",
       "      <td>0</td>\n",
       "      <td>0</td>\n",
       "      <td>...</td>\n",
       "      <td>0</td>\n",
       "      <td>1</td>\n",
       "      <td>0</td>\n",
       "      <td>0</td>\n",
       "      <td>0</td>\n",
       "      <td>0</td>\n",
       "      <td>0</td>\n",
       "      <td>0</td>\n",
       "      <td>0</td>\n",
       "      <td>0</td>\n",
       "    </tr>\n",
       "    <tr>\n",
       "      <th>233</th>\n",
       "      <td>0</td>\n",
       "      <td>0</td>\n",
       "      <td>1</td>\n",
       "      <td>0.777567</td>\n",
       "      <td>0.359532</td>\n",
       "      <td>0.524373</td>\n",
       "      <td>0.522395</td>\n",
       "      <td>0</td>\n",
       "      <td>1</td>\n",
       "      <td>0</td>\n",
       "      <td>...</td>\n",
       "      <td>0</td>\n",
       "      <td>0</td>\n",
       "      <td>0</td>\n",
       "      <td>1</td>\n",
       "      <td>0</td>\n",
       "      <td>0</td>\n",
       "      <td>0</td>\n",
       "      <td>0</td>\n",
       "      <td>0</td>\n",
       "      <td>0</td>\n",
       "    </tr>\n",
       "  </tbody>\n",
       "</table>\n",
       "<p>5 rows × 29 columns</p>\n",
       "</div>"
      ],
      "text/plain": [
       "     yr  holiday  workingday      temp       hum  windspeed       cnt  \\\n",
       "566   1        0           0  0.652175  0.863516   0.393568  0.486297   \n",
       "374   1        0           1  0.276477  0.584521   0.340487  0.382349   \n",
       "181   0        0           0  0.817910  0.265533   0.165370  0.595316   \n",
       "529   1        0           1  0.720868  0.486457   0.476922  0.836895   \n",
       "233   0        0           1  0.777567  0.359532   0.524373  0.522395   \n",
       "\n",
       "     season_summer  season_fall  season_winter  ...  mnth_may  mnth_jun  \\\n",
       "566              0            1              0  ...         0         0   \n",
       "374              0            0              0  ...         0         0   \n",
       "181              0            1              0  ...         0         0   \n",
       "529              1            0              0  ...         0         1   \n",
       "233              0            1              0  ...         0         0   \n",
       "\n",
       "     mnth_jul  mnth_aug  mnth_sep  mnth_oct  mnth_nov  mnth_dec  \\\n",
       "566         1         0         0         0         0         0   \n",
       "374         0         0         0         0         0         0   \n",
       "181         1         0         0         0         0         0   \n",
       "529         0         0         0         0         0         0   \n",
       "233         0         1         0         0         0         0   \n",
       "\n",
       "     weathersit_Mist_Cloudy  weathersit_LightSnow_LightRain  \n",
       "566                       0                               1  \n",
       "374                       0                               0  \n",
       "181                       0                               0  \n",
       "529                       0                               0  \n",
       "233                       0                               0  \n",
       "\n",
       "[5 rows x 29 columns]"
      ]
     },
     "execution_count": 30,
     "metadata": {},
     "output_type": "execute_result"
    }
   ],
   "source": [
    "# transform test dataset \n",
    "df_test[num_vars] = scaler.transform(df_test[num_vars])\n",
    "df_test.head()"
   ]
  },
  {
   "cell_type": "markdown",
   "metadata": {
    "papermill": {
     "duration": 0.034067,
     "end_time": "2020-08-12T13:45:10.596372",
     "exception": false,
     "start_time": "2020-08-12T13:45:10.562305",
     "status": "completed"
    },
    "tags": []
   },
   "source": [
    "### 3.4 Split data set into X and y sets (for both train and test set)"
   ]
  },
  {
   "cell_type": "code",
   "execution_count": 31,
   "metadata": {
    "execution": {
     "iopub.execute_input": "2020-08-12T13:45:10.691068Z",
     "iopub.status.busy": "2020-08-12T13:45:10.689942Z",
     "iopub.status.idle": "2020-08-12T13:45:10.695202Z",
     "shell.execute_reply": "2020-08-12T13:45:10.694565Z"
    },
    "papermill": {
     "duration": 0.064663,
     "end_time": "2020-08-12T13:45:10.695341",
     "exception": false,
     "start_time": "2020-08-12T13:45:10.630678",
     "status": "completed"
    },
    "tags": []
   },
   "outputs": [
    {
     "data": {
      "text/html": [
       "<div>\n",
       "<style scoped>\n",
       "    .dataframe tbody tr th:only-of-type {\n",
       "        vertical-align: middle;\n",
       "    }\n",
       "\n",
       "    .dataframe tbody tr th {\n",
       "        vertical-align: top;\n",
       "    }\n",
       "\n",
       "    .dataframe thead th {\n",
       "        text-align: right;\n",
       "    }\n",
       "</style>\n",
       "<table border=\"1\" class=\"dataframe\">\n",
       "  <thead>\n",
       "    <tr style=\"text-align: right;\">\n",
       "      <th></th>\n",
       "      <th>yr</th>\n",
       "      <th>holiday</th>\n",
       "      <th>workingday</th>\n",
       "      <th>temp</th>\n",
       "      <th>hum</th>\n",
       "      <th>windspeed</th>\n",
       "      <th>season_summer</th>\n",
       "      <th>season_fall</th>\n",
       "      <th>season_winter</th>\n",
       "      <th>weekday_Mon</th>\n",
       "      <th>...</th>\n",
       "      <th>mnth_may</th>\n",
       "      <th>mnth_jun</th>\n",
       "      <th>mnth_jul</th>\n",
       "      <th>mnth_aug</th>\n",
       "      <th>mnth_sep</th>\n",
       "      <th>mnth_oct</th>\n",
       "      <th>mnth_nov</th>\n",
       "      <th>mnth_dec</th>\n",
       "      <th>weathersit_Mist_Cloudy</th>\n",
       "      <th>weathersit_LightSnow_LightRain</th>\n",
       "    </tr>\n",
       "  </thead>\n",
       "  <tbody>\n",
       "    <tr>\n",
       "      <th>72</th>\n",
       "      <td>0</td>\n",
       "      <td>0</td>\n",
       "      <td>1</td>\n",
       "      <td>0.298094</td>\n",
       "      <td>0.393891</td>\n",
       "      <td>0.236118</td>\n",
       "      <td>0</td>\n",
       "      <td>0</td>\n",
       "      <td>0</td>\n",
       "      <td>0</td>\n",
       "      <td>...</td>\n",
       "      <td>0</td>\n",
       "      <td>0</td>\n",
       "      <td>0</td>\n",
       "      <td>0</td>\n",
       "      <td>0</td>\n",
       "      <td>0</td>\n",
       "      <td>0</td>\n",
       "      <td>0</td>\n",
       "      <td>0</td>\n",
       "      <td>0</td>\n",
       "    </tr>\n",
       "    <tr>\n",
       "      <th>510</th>\n",
       "      <td>1</td>\n",
       "      <td>0</td>\n",
       "      <td>0</td>\n",
       "      <td>0.778657</td>\n",
       "      <td>0.694105</td>\n",
       "      <td>0.364071</td>\n",
       "      <td>1</td>\n",
       "      <td>0</td>\n",
       "      <td>0</td>\n",
       "      <td>0</td>\n",
       "      <td>...</td>\n",
       "      <td>1</td>\n",
       "      <td>0</td>\n",
       "      <td>0</td>\n",
       "      <td>0</td>\n",
       "      <td>0</td>\n",
       "      <td>0</td>\n",
       "      <td>0</td>\n",
       "      <td>0</td>\n",
       "      <td>0</td>\n",
       "      <td>0</td>\n",
       "    </tr>\n",
       "    <tr>\n",
       "      <th>700</th>\n",
       "      <td>1</td>\n",
       "      <td>0</td>\n",
       "      <td>1</td>\n",
       "      <td>0.327249</td>\n",
       "      <td>0.809877</td>\n",
       "      <td>0.210252</td>\n",
       "      <td>0</td>\n",
       "      <td>0</td>\n",
       "      <td>1</td>\n",
       "      <td>1</td>\n",
       "      <td>...</td>\n",
       "      <td>0</td>\n",
       "      <td>0</td>\n",
       "      <td>0</td>\n",
       "      <td>0</td>\n",
       "      <td>0</td>\n",
       "      <td>0</td>\n",
       "      <td>0</td>\n",
       "      <td>1</td>\n",
       "      <td>1</td>\n",
       "      <td>0</td>\n",
       "    </tr>\n",
       "    <tr>\n",
       "      <th>264</th>\n",
       "      <td>0</td>\n",
       "      <td>0</td>\n",
       "      <td>0</td>\n",
       "      <td>0.694699</td>\n",
       "      <td>0.910249</td>\n",
       "      <td>0.217975</td>\n",
       "      <td>0</td>\n",
       "      <td>1</td>\n",
       "      <td>0</td>\n",
       "      <td>0</td>\n",
       "      <td>...</td>\n",
       "      <td>0</td>\n",
       "      <td>0</td>\n",
       "      <td>0</td>\n",
       "      <td>0</td>\n",
       "      <td>1</td>\n",
       "      <td>0</td>\n",
       "      <td>0</td>\n",
       "      <td>0</td>\n",
       "      <td>1</td>\n",
       "      <td>0</td>\n",
       "    </tr>\n",
       "    <tr>\n",
       "      <th>577</th>\n",
       "      <td>1</td>\n",
       "      <td>0</td>\n",
       "      <td>1</td>\n",
       "      <td>0.811368</td>\n",
       "      <td>0.624004</td>\n",
       "      <td>0.244886</td>\n",
       "      <td>0</td>\n",
       "      <td>1</td>\n",
       "      <td>0</td>\n",
       "      <td>0</td>\n",
       "      <td>...</td>\n",
       "      <td>0</td>\n",
       "      <td>0</td>\n",
       "      <td>0</td>\n",
       "      <td>1</td>\n",
       "      <td>0</td>\n",
       "      <td>0</td>\n",
       "      <td>0</td>\n",
       "      <td>0</td>\n",
       "      <td>0</td>\n",
       "      <td>0</td>\n",
       "    </tr>\n",
       "  </tbody>\n",
       "</table>\n",
       "<p>5 rows × 28 columns</p>\n",
       "</div>"
      ],
      "text/plain": [
       "     yr  holiday  workingday      temp       hum  windspeed  season_summer  \\\n",
       "72    0        0           1  0.298094  0.393891   0.236118              0   \n",
       "510   1        0           0  0.778657  0.694105   0.364071              1   \n",
       "700   1        0           1  0.327249  0.809877   0.210252              0   \n",
       "264   0        0           0  0.694699  0.910249   0.217975              0   \n",
       "577   1        0           1  0.811368  0.624004   0.244886              0   \n",
       "\n",
       "     season_fall  season_winter  weekday_Mon  ...  mnth_may  mnth_jun  \\\n",
       "72             0              0            0  ...         0         0   \n",
       "510            0              0            0  ...         1         0   \n",
       "700            0              1            1  ...         0         0   \n",
       "264            1              0            0  ...         0         0   \n",
       "577            1              0            0  ...         0         0   \n",
       "\n",
       "     mnth_jul  mnth_aug  mnth_sep  mnth_oct  mnth_nov  mnth_dec  \\\n",
       "72          0         0         0         0         0         0   \n",
       "510         0         0         0         0         0         0   \n",
       "700         0         0         0         0         0         1   \n",
       "264         0         0         1         0         0         0   \n",
       "577         0         1         0         0         0         0   \n",
       "\n",
       "     weathersit_Mist_Cloudy  weathersit_LightSnow_LightRain  \n",
       "72                        0                               0  \n",
       "510                       0                               0  \n",
       "700                       1                               0  \n",
       "264                       1                               0  \n",
       "577                       0                               0  \n",
       "\n",
       "[5 rows x 28 columns]"
      ]
     },
     "execution_count": 31,
     "metadata": {},
     "output_type": "execute_result"
    }
   ],
   "source": [
    "# Creating X and y data dataframe for train set\n",
    "y_train = df_train.pop('cnt')\n",
    "X_train = df_train\n",
    "X_train.head()"
   ]
  },
  {
   "cell_type": "code",
   "execution_count": 32,
   "metadata": {
    "execution": {
     "iopub.execute_input": "2020-08-12T13:45:10.794434Z",
     "iopub.status.busy": "2020-08-12T13:45:10.793658Z",
     "iopub.status.idle": "2020-08-12T13:45:10.798915Z",
     "shell.execute_reply": "2020-08-12T13:45:10.798340Z"
    },
    "papermill": {
     "duration": 0.068195,
     "end_time": "2020-08-12T13:45:10.799048",
     "exception": false,
     "start_time": "2020-08-12T13:45:10.730853",
     "status": "completed"
    },
    "tags": []
   },
   "outputs": [
    {
     "data": {
      "text/html": [
       "<div>\n",
       "<style scoped>\n",
       "    .dataframe tbody tr th:only-of-type {\n",
       "        vertical-align: middle;\n",
       "    }\n",
       "\n",
       "    .dataframe tbody tr th {\n",
       "        vertical-align: top;\n",
       "    }\n",
       "\n",
       "    .dataframe thead th {\n",
       "        text-align: right;\n",
       "    }\n",
       "</style>\n",
       "<table border=\"1\" class=\"dataframe\">\n",
       "  <thead>\n",
       "    <tr style=\"text-align: right;\">\n",
       "      <th></th>\n",
       "      <th>yr</th>\n",
       "      <th>holiday</th>\n",
       "      <th>workingday</th>\n",
       "      <th>temp</th>\n",
       "      <th>hum</th>\n",
       "      <th>windspeed</th>\n",
       "      <th>season_summer</th>\n",
       "      <th>season_fall</th>\n",
       "      <th>season_winter</th>\n",
       "      <th>weekday_Mon</th>\n",
       "      <th>...</th>\n",
       "      <th>mnth_may</th>\n",
       "      <th>mnth_jun</th>\n",
       "      <th>mnth_jul</th>\n",
       "      <th>mnth_aug</th>\n",
       "      <th>mnth_sep</th>\n",
       "      <th>mnth_oct</th>\n",
       "      <th>mnth_nov</th>\n",
       "      <th>mnth_dec</th>\n",
       "      <th>weathersit_Mist_Cloudy</th>\n",
       "      <th>weathersit_LightSnow_LightRain</th>\n",
       "    </tr>\n",
       "  </thead>\n",
       "  <tbody>\n",
       "    <tr>\n",
       "      <th>566</th>\n",
       "      <td>1</td>\n",
       "      <td>0</td>\n",
       "      <td>0</td>\n",
       "      <td>0.652175</td>\n",
       "      <td>0.863516</td>\n",
       "      <td>0.393568</td>\n",
       "      <td>0</td>\n",
       "      <td>1</td>\n",
       "      <td>0</td>\n",
       "      <td>0</td>\n",
       "      <td>...</td>\n",
       "      <td>0</td>\n",
       "      <td>0</td>\n",
       "      <td>1</td>\n",
       "      <td>0</td>\n",
       "      <td>0</td>\n",
       "      <td>0</td>\n",
       "      <td>0</td>\n",
       "      <td>0</td>\n",
       "      <td>0</td>\n",
       "      <td>1</td>\n",
       "    </tr>\n",
       "    <tr>\n",
       "      <th>374</th>\n",
       "      <td>1</td>\n",
       "      <td>0</td>\n",
       "      <td>1</td>\n",
       "      <td>0.276477</td>\n",
       "      <td>0.584521</td>\n",
       "      <td>0.340487</td>\n",
       "      <td>0</td>\n",
       "      <td>0</td>\n",
       "      <td>0</td>\n",
       "      <td>0</td>\n",
       "      <td>...</td>\n",
       "      <td>0</td>\n",
       "      <td>0</td>\n",
       "      <td>0</td>\n",
       "      <td>0</td>\n",
       "      <td>0</td>\n",
       "      <td>0</td>\n",
       "      <td>0</td>\n",
       "      <td>0</td>\n",
       "      <td>0</td>\n",
       "      <td>0</td>\n",
       "    </tr>\n",
       "    <tr>\n",
       "      <th>181</th>\n",
       "      <td>0</td>\n",
       "      <td>0</td>\n",
       "      <td>0</td>\n",
       "      <td>0.817910</td>\n",
       "      <td>0.265533</td>\n",
       "      <td>0.165370</td>\n",
       "      <td>0</td>\n",
       "      <td>1</td>\n",
       "      <td>0</td>\n",
       "      <td>0</td>\n",
       "      <td>...</td>\n",
       "      <td>0</td>\n",
       "      <td>0</td>\n",
       "      <td>1</td>\n",
       "      <td>0</td>\n",
       "      <td>0</td>\n",
       "      <td>0</td>\n",
       "      <td>0</td>\n",
       "      <td>0</td>\n",
       "      <td>0</td>\n",
       "      <td>0</td>\n",
       "    </tr>\n",
       "    <tr>\n",
       "      <th>529</th>\n",
       "      <td>1</td>\n",
       "      <td>0</td>\n",
       "      <td>1</td>\n",
       "      <td>0.720868</td>\n",
       "      <td>0.486457</td>\n",
       "      <td>0.476922</td>\n",
       "      <td>1</td>\n",
       "      <td>0</td>\n",
       "      <td>0</td>\n",
       "      <td>0</td>\n",
       "      <td>...</td>\n",
       "      <td>0</td>\n",
       "      <td>1</td>\n",
       "      <td>0</td>\n",
       "      <td>0</td>\n",
       "      <td>0</td>\n",
       "      <td>0</td>\n",
       "      <td>0</td>\n",
       "      <td>0</td>\n",
       "      <td>0</td>\n",
       "      <td>0</td>\n",
       "    </tr>\n",
       "    <tr>\n",
       "      <th>233</th>\n",
       "      <td>0</td>\n",
       "      <td>0</td>\n",
       "      <td>1</td>\n",
       "      <td>0.777567</td>\n",
       "      <td>0.359532</td>\n",
       "      <td>0.524373</td>\n",
       "      <td>0</td>\n",
       "      <td>1</td>\n",
       "      <td>0</td>\n",
       "      <td>0</td>\n",
       "      <td>...</td>\n",
       "      <td>0</td>\n",
       "      <td>0</td>\n",
       "      <td>0</td>\n",
       "      <td>1</td>\n",
       "      <td>0</td>\n",
       "      <td>0</td>\n",
       "      <td>0</td>\n",
       "      <td>0</td>\n",
       "      <td>0</td>\n",
       "      <td>0</td>\n",
       "    </tr>\n",
       "  </tbody>\n",
       "</table>\n",
       "<p>5 rows × 28 columns</p>\n",
       "</div>"
      ],
      "text/plain": [
       "     yr  holiday  workingday      temp       hum  windspeed  season_summer  \\\n",
       "566   1        0           0  0.652175  0.863516   0.393568              0   \n",
       "374   1        0           1  0.276477  0.584521   0.340487              0   \n",
       "181   0        0           0  0.817910  0.265533   0.165370              0   \n",
       "529   1        0           1  0.720868  0.486457   0.476922              1   \n",
       "233   0        0           1  0.777567  0.359532   0.524373              0   \n",
       "\n",
       "     season_fall  season_winter  weekday_Mon  ...  mnth_may  mnth_jun  \\\n",
       "566            1              0            0  ...         0         0   \n",
       "374            0              0            0  ...         0         0   \n",
       "181            1              0            0  ...         0         0   \n",
       "529            0              0            0  ...         0         1   \n",
       "233            1              0            0  ...         0         0   \n",
       "\n",
       "     mnth_jul  mnth_aug  mnth_sep  mnth_oct  mnth_nov  mnth_dec  \\\n",
       "566         1         0         0         0         0         0   \n",
       "374         0         0         0         0         0         0   \n",
       "181         1         0         0         0         0         0   \n",
       "529         0         0         0         0         0         0   \n",
       "233         0         1         0         0         0         0   \n",
       "\n",
       "     weathersit_Mist_Cloudy  weathersit_LightSnow_LightRain  \n",
       "566                       0                               1  \n",
       "374                       0                               0  \n",
       "181                       0                               0  \n",
       "529                       0                               0  \n",
       "233                       0                               0  \n",
       "\n",
       "[5 rows x 28 columns]"
      ]
     },
     "execution_count": 32,
     "metadata": {},
     "output_type": "execute_result"
    }
   ],
   "source": [
    "# Creating X and y data dataframe for test set\n",
    "y_test = df_test.pop('cnt')\n",
    "X_test = df_test\n",
    "\n",
    "X_test.head()"
   ]
  },
  {
   "cell_type": "markdown",
   "metadata": {
    "papermill": {
     "duration": 0.035149,
     "end_time": "2020-08-12T13:45:10.869625",
     "exception": false,
     "start_time": "2020-08-12T13:45:10.834476",
     "status": "completed"
    },
    "tags": []
   },
   "source": [
    "### Step - 4. Data Modeling and Evaluation"
   ]
  },
  {
   "cell_type": "markdown",
   "metadata": {
    "papermill": {
     "duration": 0.034883,
     "end_time": "2020-08-12T13:45:10.939765",
     "exception": false,
     "start_time": "2020-08-12T13:45:10.904882",
     "status": "completed"
    },
    "tags": []
   },
   "source": [
    "### 4.1 Recusive feature elemination (RFE)"
   ]
  },
  {
   "cell_type": "code",
   "execution_count": 33,
   "metadata": {
    "execution": {
     "iopub.execute_input": "2020-08-12T13:45:11.017608Z",
     "iopub.status.busy": "2020-08-12T13:45:11.016794Z",
     "iopub.status.idle": "2020-08-12T13:45:11.021998Z",
     "shell.execute_reply": "2020-08-12T13:45:11.021322Z"
    },
    "papermill": {
     "duration": 0.04592,
     "end_time": "2020-08-12T13:45:11.022156",
     "exception": false,
     "start_time": "2020-08-12T13:45:10.976236",
     "status": "completed"
    },
    "tags": []
   },
   "outputs": [
    {
     "data": {
      "text/plain": [
       "Index(['yr', 'holiday', 'workingday', 'temp', 'hum', 'windspeed',\n",
       "       'season_summer', 'season_fall', 'season_winter', 'weekday_Mon',\n",
       "       'weekday_Tue', 'weekday_Wed', 'weekday_Thu', 'weekday_Fri',\n",
       "       'weekday_Sat', 'mnth_feb', 'mnth_mar', 'mnth_apr', 'mnth_may',\n",
       "       'mnth_jun', 'mnth_jul', 'mnth_aug', 'mnth_sep', 'mnth_oct', 'mnth_nov',\n",
       "       'mnth_dec', 'weathersit_Mist_Cloudy', 'weathersit_LightSnow_LightRain'],\n",
       "      dtype='object')"
      ]
     },
     "execution_count": 33,
     "metadata": {},
     "output_type": "execute_result"
    }
   ],
   "source": [
    "# Checking variables for for X_train columns\n",
    "X_train.columns"
   ]
  },
  {
   "cell_type": "code",
   "execution_count": 34,
   "metadata": {
    "execution": {
     "iopub.execute_input": "2020-08-12T13:45:11.147718Z",
     "iopub.status.busy": "2020-08-12T13:45:11.101893Z",
     "iopub.status.idle": "2020-08-12T13:45:11.175778Z",
     "shell.execute_reply": "2020-08-12T13:45:11.174902Z"
    },
    "papermill": {
     "duration": 0.118605,
     "end_time": "2020-08-12T13:45:11.175927",
     "exception": false,
     "start_time": "2020-08-12T13:45:11.057322",
     "status": "completed"
    },
    "scrolled": true,
    "tags": []
   },
   "outputs": [
    {
     "data": {
      "text/plain": [
       "Index(['yr', 'holiday', 'temp', 'hum', 'windspeed', 'season_summer',\n",
       "       'season_fall', 'season_winter', 'mnth_mar', 'mnth_may', 'mnth_aug',\n",
       "       'mnth_sep', 'mnth_oct', 'weathersit_Mist_Cloudy',\n",
       "       'weathersit_LightSnow_LightRain'],\n",
       "      dtype='object')"
      ]
     },
     "execution_count": 34,
     "metadata": {},
     "output_type": "execute_result"
    }
   ],
   "source": [
    "# Running RFE to select 15 number of varibles\n",
    "# Create object\n",
    "lm = LinearRegression()\n",
    "# fit model\n",
    "lm.fit(X_train, y_train)\n",
    "# run RFE\n",
    "rfe = RFE(lm, 15)\n",
    "rfe = rfe.fit(X_train, y_train)\n",
    "\n",
    "# Select columns\n",
    "col = X_train.columns[rfe.support_]\n",
    "col"
   ]
  },
  {
   "cell_type": "markdown",
   "metadata": {
    "papermill": {
     "duration": 0.036221,
     "end_time": "2020-08-12T13:45:11.249313",
     "exception": false,
     "start_time": "2020-08-12T13:45:11.213092",
     "status": "completed"
    },
    "tags": []
   },
   "source": [
    "### 4.2 Building model using statsmodel, for the detailed statistics"
   ]
  },
  {
   "cell_type": "code",
   "execution_count": 35,
   "metadata": {
    "execution": {
     "iopub.execute_input": "2020-08-12T13:45:11.328043Z",
     "iopub.status.busy": "2020-08-12T13:45:11.327224Z",
     "iopub.status.idle": "2020-08-12T13:45:11.330437Z",
     "shell.execute_reply": "2020-08-12T13:45:11.329849Z"
    },
    "papermill": {
     "duration": 0.045277,
     "end_time": "2020-08-12T13:45:11.330562",
     "exception": false,
     "start_time": "2020-08-12T13:45:11.285285",
     "status": "completed"
    },
    "tags": []
   },
   "outputs": [],
   "source": [
    "# Creating X_train_rfe with RFE selected variables\n",
    "X_train_rfe = X_train[col]"
   ]
  },
  {
   "cell_type": "code",
   "execution_count": 36,
   "metadata": {
    "execution": {
     "iopub.execute_input": "2020-08-12T13:45:11.409166Z",
     "iopub.status.busy": "2020-08-12T13:45:11.408090Z",
     "iopub.status.idle": "2020-08-12T13:45:11.410808Z",
     "shell.execute_reply": "2020-08-12T13:45:11.411361Z"
    },
    "papermill": {
     "duration": 0.044846,
     "end_time": "2020-08-12T13:45:11.411523",
     "exception": false,
     "start_time": "2020-08-12T13:45:11.366677",
     "status": "completed"
    },
    "scrolled": false,
    "tags": []
   },
   "outputs": [],
   "source": [
    "# create function for stats linear model \n",
    "def sm_linearmodel(X_train_sm):\n",
    "    #Add constant\n",
    "    X_train_sm = sm.add_constant(X_train_sm)\n",
    "\n",
    "    # create a fitted model (1st model)\n",
    "    lm = sm.OLS(y_train,X_train_sm).fit()\n",
    "    return lm"
   ]
  },
  {
   "cell_type": "code",
   "execution_count": 37,
   "metadata": {
    "execution": {
     "iopub.execute_input": "2020-08-12T13:45:11.491037Z",
     "iopub.status.busy": "2020-08-12T13:45:11.490081Z",
     "iopub.status.idle": "2020-08-12T13:45:11.493221Z",
     "shell.execute_reply": "2020-08-12T13:45:11.492635Z"
    },
    "papermill": {
     "duration": 0.046329,
     "end_time": "2020-08-12T13:45:11.493362",
     "exception": false,
     "start_time": "2020-08-12T13:45:11.447033",
     "status": "completed"
    },
    "scrolled": false,
    "tags": []
   },
   "outputs": [],
   "source": [
    "# Function to calculate VIF\n",
    "# calculate VIF\n",
    "def vif_calc(X):\n",
    "    vif = pd.DataFrame()\n",
    "    vif['Features'] = X.columns\n",
    "    vif['VIF'] = [variance_inflation_factor(X.values, i) for i in range(X.shape[1])]\n",
    "    vif['VIF'] = round(vif['VIF'],2)\n",
    "    vif = vif.sort_values(by='VIF', ascending = False)\n",
    "    return vif"
   ]
  },
  {
   "cell_type": "code",
   "execution_count": 38,
   "metadata": {
    "execution": {
     "iopub.execute_input": "2020-08-12T13:45:11.571057Z",
     "iopub.status.busy": "2020-08-12T13:45:11.570319Z",
     "iopub.status.idle": "2020-08-12T13:45:11.625412Z",
     "shell.execute_reply": "2020-08-12T13:45:11.624528Z"
    },
    "papermill": {
     "duration": 0.096262,
     "end_time": "2020-08-12T13:45:11.625559",
     "exception": false,
     "start_time": "2020-08-12T13:45:11.529297",
     "status": "completed"
    },
    "scrolled": true,
    "tags": []
   },
   "outputs": [
    {
     "name": "stdout",
     "output_type": "stream",
     "text": [
      "                            OLS Regression Results                            \n",
      "==============================================================================\n",
      "Dep. Variable:                    cnt   R-squared:                       0.846\n",
      "Model:                            OLS   Adj. R-squared:                  0.841\n",
      "Method:                 Least Squares   F-statistic:                     180.5\n",
      "Date:                Sun, 24 Jan 2021   Prob (F-statistic):          2.39e-189\n",
      "Time:                        16:47:52   Log-Likelihood:                 489.38\n",
      "No. Observations:                 510   AIC:                            -946.8\n",
      "Df Residuals:                     494   BIC:                            -879.0\n",
      "Df Model:                          15                                         \n",
      "Covariance Type:            nonrobust                                         \n",
      "==================================================================================================\n",
      "                                     coef    std err          t      P>|t|      [0.025      0.975]\n",
      "--------------------------------------------------------------------------------------------------\n",
      "const                              0.1956      0.025      7.982      0.000       0.147       0.244\n",
      "yr                                 0.2491      0.009     28.997      0.000       0.232       0.266\n",
      "holiday                           -0.0856      0.023     -3.656      0.000      -0.132      -0.040\n",
      "temp                               0.4458      0.034     13.299      0.000       0.380       0.512\n",
      "hum                               -0.1777      0.034     -5.192      0.000      -0.245      -0.110\n",
      "windspeed                         -0.1761      0.028     -6.241      0.000      -0.232      -0.121\n",
      "season_summer                      0.1401      0.016      8.731      0.000       0.109       0.172\n",
      "season_fall                        0.0913      0.023      3.942      0.000       0.046       0.137\n",
      "season_winter                      0.1721      0.014     11.916      0.000       0.144       0.200\n",
      "mnth_mar                           0.0512      0.016      3.172      0.002       0.019       0.083\n",
      "mnth_may                           0.0353      0.018      1.931      0.054      -0.001       0.071\n",
      "mnth_aug                           0.0388      0.020      1.955      0.051      -0.000       0.078\n",
      "mnth_sep                           0.1116      0.017      6.418      0.000       0.077       0.146\n",
      "mnth_oct                           0.0737      0.018      4.047      0.000       0.038       0.109\n",
      "weathersit_Mist_Cloudy            -0.0522      0.011     -4.594      0.000      -0.075      -0.030\n",
      "weathersit_LightSnow_LightRain    -0.1990      0.028     -7.013      0.000      -0.255      -0.143\n",
      "==============================================================================\n",
      "Omnibus:                       81.364   Durbin-Watson:                   2.055\n",
      "Prob(Omnibus):                  0.000   Jarque-Bera (JB):              205.243\n",
      "Skew:                          -0.808   Prob(JB):                     2.70e-45\n",
      "Kurtosis:                       5.655   Cond. No.                         17.4\n",
      "==============================================================================\n",
      "\n",
      "Warnings:\n",
      "[1] Standard Errors assume that the covariance matrix of the errors is correctly specified.\n",
      "                          Features    VIF\n",
      "2                             temp  19.47\n",
      "3                              hum  12.27\n",
      "6                      season_fall   7.26\n",
      "4                        windspeed   3.82\n",
      "5                    season_summer   3.80\n",
      "7                    season_winter   3.05\n",
      "13          weathersit_Mist_Cloudy   2.35\n",
      "0                               yr   1.99\n",
      "10                        mnth_aug   1.72\n",
      "9                         mnth_may   1.64\n",
      "12                        mnth_oct   1.59\n",
      "11                        mnth_sep   1.57\n",
      "14  weathersit_LightSnow_LightRain   1.38\n",
      "8                         mnth_mar   1.24\n",
      "1                          holiday   1.05\n"
     ]
    }
   ],
   "source": [
    "# Create 1st stats model and look for summary and VIF\n",
    "lm_1 = sm_linearmodel(X_train_rfe)\n",
    "print(lm_1.summary())\n",
    "\n",
    "# Calculate VIF\n",
    "print(vif_calc(X_train_rfe))"
   ]
  },
  {
   "cell_type": "code",
   "execution_count": 39,
   "metadata": {
    "execution": {
     "iopub.execute_input": "2020-08-12T13:45:11.721065Z",
     "iopub.status.busy": "2020-08-12T13:45:11.717051Z",
     "iopub.status.idle": "2020-08-12T13:45:11.739066Z",
     "shell.execute_reply": "2020-08-12T13:45:11.738247Z"
    },
    "papermill": {
     "duration": 0.074321,
     "end_time": "2020-08-12T13:45:11.739245",
     "exception": false,
     "start_time": "2020-08-12T13:45:11.664924",
     "status": "completed"
    },
    "tags": []
   },
   "outputs": [
    {
     "name": "stdout",
     "output_type": "stream",
     "text": [
      "Removed variable: mnth_may     P value:  0.054\n",
      "Removed variable: mnth_aug     P value:  0.056\n"
     ]
    }
   ],
   "source": [
    "# Loop to remove P value variables >0.05 in bstep mannen and update model\n",
    "\n",
    "pvalue = lm_1.pvalues\n",
    "while(max(pvalue)>0.05):\n",
    "    maxp_var = pvalue[pvalue == pvalue.max()].index\n",
    "    print('Removed variable:' , maxp_var[0], '    P value: ', round(max(pvalue),3))\n",
    "    \n",
    "    # drop variable with high p value\n",
    "    X_train_rfe = X_train_rfe.drop(maxp_var, axis = 1)\n",
    "    lm_1 = sm_linearmodel(X_train_rfe)\n",
    "    pvalue = lm_1.pvalues\n",
    "    \n",
    "    "
   ]
  },
  {
   "cell_type": "markdown",
   "metadata": {
    "papermill": {
     "duration": 0.035938,
     "end_time": "2020-08-12T13:45:11.811784",
     "exception": false,
     "start_time": "2020-08-12T13:45:11.775846",
     "status": "completed"
    },
    "tags": []
   },
   "source": [
    "**Insights:**\n",
    "- Two step model upadation hapenned in the above step.\n",
    "- loop-1: highest pvalue in the model; `mnth_may : 0.054`. As the pvalue is >0.05 it is insignificant for the model, so `mnth_may` is dropped and model updated.\n",
    "- loop-2: highest pvalue in the mdoel; `mnth_aug : 0.056`. As the pvalue is >0.05 it is insignificant for the model, so `mnth_aug` is dropped and model updated.\n",
    "- pvalues for all the varibles are < 0.05 so we will look for summary and VIF of model `lm_1`."
   ]
  },
  {
   "cell_type": "code",
   "execution_count": 40,
   "metadata": {
    "execution": {
     "iopub.execute_input": "2020-08-12T13:45:11.908087Z",
     "iopub.status.busy": "2020-08-12T13:45:11.894015Z",
     "iopub.status.idle": "2020-08-12T13:45:11.933131Z",
     "shell.execute_reply": "2020-08-12T13:45:11.932387Z"
    },
    "papermill": {
     "duration": 0.085189,
     "end_time": "2020-08-12T13:45:11.933257",
     "exception": false,
     "start_time": "2020-08-12T13:45:11.848068",
     "status": "completed"
    },
    "scrolled": true,
    "tags": []
   },
   "outputs": [
    {
     "name": "stdout",
     "output_type": "stream",
     "text": [
      "                            OLS Regression Results                            \n",
      "==============================================================================\n",
      "Dep. Variable:                    cnt   R-squared:                       0.843\n",
      "Model:                            OLS   Adj. R-squared:                  0.839\n",
      "Method:                 Least Squares   F-statistic:                     205.5\n",
      "Date:                Sun, 24 Jan 2021   Prob (F-statistic):          4.51e-190\n",
      "Time:                        16:47:52   Log-Likelihood:                 485.58\n",
      "No. Observations:                 510   AIC:                            -943.2\n",
      "Df Residuals:                     496   BIC:                            -883.9\n",
      "Df Model:                          13                                         \n",
      "Covariance Type:            nonrobust                                         \n",
      "==================================================================================================\n",
      "                                     coef    std err          t      P>|t|      [0.025      0.975]\n",
      "--------------------------------------------------------------------------------------------------\n",
      "const                              0.1870      0.024      7.656      0.000       0.139       0.235\n",
      "yr                                 0.2487      0.009     28.813      0.000       0.232       0.266\n",
      "holiday                           -0.0886      0.023     -3.772      0.000      -0.135      -0.042\n",
      "temp                               0.4556      0.033     13.643      0.000       0.390       0.521\n",
      "hum                               -0.1624      0.034     -4.792      0.000      -0.229      -0.096\n",
      "windspeed                         -0.1749      0.028     -6.175      0.000      -0.231      -0.119\n",
      "season_summer                      0.1476      0.016      9.480      0.000       0.117       0.178\n",
      "season_fall                        0.1002      0.022      4.626      0.000       0.058       0.143\n",
      "season_winter                      0.1705      0.014     11.828      0.000       0.142       0.199\n",
      "mnth_mar                           0.0459      0.016      2.868      0.004       0.014       0.077\n",
      "mnth_sep                           0.0980      0.016      6.046      0.000       0.066       0.130\n",
      "mnth_oct                           0.0704      0.018      3.854      0.000       0.035       0.106\n",
      "weathersit_Mist_Cloudy            -0.0538      0.011     -4.727      0.000      -0.076      -0.031\n",
      "weathersit_LightSnow_LightRain    -0.2069      0.028     -7.296      0.000      -0.263      -0.151\n",
      "==============================================================================\n",
      "Omnibus:                       80.403   Durbin-Watson:                   2.073\n",
      "Prob(Omnibus):                  0.000   Jarque-Bera (JB):              188.324\n",
      "Skew:                          -0.824   Prob(JB):                     1.28e-41\n",
      "Kurtosis:                       5.479   Cond. No.                         17.1\n",
      "==============================================================================\n",
      "\n",
      "Warnings:\n",
      "[1] Standard Errors assume that the covariance matrix of the errors is correctly specified.\n",
      "                          Features    VIF\n",
      "2                             temp  19.22\n",
      "3                              hum  12.09\n",
      "6                      season_fall   6.28\n",
      "4                        windspeed   3.76\n",
      "5                    season_summer   3.54\n",
      "7                    season_winter   2.99\n",
      "11          weathersit_Mist_Cloudy   2.34\n",
      "0                               yr   1.98\n",
      "10                        mnth_oct   1.59\n",
      "12  weathersit_LightSnow_LightRain   1.37\n",
      "9                         mnth_sep   1.36\n",
      "8                         mnth_mar   1.19\n",
      "1                          holiday   1.04\n"
     ]
    }
   ],
   "source": [
    "# Look for sumamry of model\n",
    "print(lm_1.summary())\n",
    "\n",
    "# Calculate VIF\n",
    "print(vif_calc(X_train_rfe))"
   ]
  },
  {
   "cell_type": "markdown",
   "metadata": {
    "papermill": {
     "duration": 0.03631,
     "end_time": "2020-08-12T13:45:12.006207",
     "exception": false,
     "start_time": "2020-08-12T13:45:11.969897",
     "status": "completed"
    },
    "tags": []
   },
   "source": [
    "**Insights:**\n",
    "- R2 : `0.843` and R2- adj : `0.839`. All the variables are having pvalue<0.05. Now we will look into VIF.\n",
    "- VIF: `temp` is having highest VIF (19.22), but during EDA we could see `temp` has a high correlation with `cnt` and also its a important varible based on business understanding. So we will keep that varible and look for highest variable which is >5.\n",
    "-  We could found `hum` as next highetst VIF (12.09) which is > 0.5. We will drop the variable and update the model."
   ]
  },
  {
   "cell_type": "markdown",
   "metadata": {
    "papermill": {
     "duration": 0.036511,
     "end_time": "2020-08-12T13:45:12.079315",
     "exception": false,
     "start_time": "2020-08-12T13:45:12.042804",
     "status": "completed"
    },
    "tags": []
   },
   "source": [
    "#### Drop variable and update model"
   ]
  },
  {
   "cell_type": "code",
   "execution_count": 41,
   "metadata": {
    "execution": {
     "iopub.execute_input": "2020-08-12T13:45:12.167378Z",
     "iopub.status.busy": "2020-08-12T13:45:12.166473Z",
     "iopub.status.idle": "2020-08-12T13:45:12.205383Z",
     "shell.execute_reply": "2020-08-12T13:45:12.204523Z"
    },
    "papermill": {
     "duration": 0.089229,
     "end_time": "2020-08-12T13:45:12.205527",
     "exception": false,
     "start_time": "2020-08-12T13:45:12.116298",
     "status": "completed"
    },
    "scrolled": true,
    "tags": []
   },
   "outputs": [
    {
     "name": "stdout",
     "output_type": "stream",
     "text": [
      "                            OLS Regression Results                            \n",
      "==============================================================================\n",
      "Dep. Variable:                    cnt   R-squared:                       0.836\n",
      "Model:                            OLS   Adj. R-squared:                  0.832\n",
      "Method:                 Least Squares   F-statistic:                     211.3\n",
      "Date:                Sun, 24 Jan 2021   Prob (F-statistic):          2.17e-186\n",
      "Time:                        16:47:52   Log-Likelihood:                 474.04\n",
      "No. Observations:                 510   AIC:                            -922.1\n",
      "Df Residuals:                     497   BIC:                            -867.0\n",
      "Df Model:                          12                                         \n",
      "Covariance Type:            nonrobust                                         \n",
      "==================================================================================================\n",
      "                                     coef    std err          t      P>|t|      [0.025      0.975]\n",
      "--------------------------------------------------------------------------------------------------\n",
      "const                              0.1065      0.018      5.878      0.000       0.071       0.142\n",
      "yr                                 0.2566      0.009     29.641      0.000       0.240       0.274\n",
      "holiday                           -0.0885      0.024     -3.685      0.000      -0.136      -0.041\n",
      "temp                               0.4175      0.033     12.597      0.000       0.352       0.483\n",
      "windspeed                         -0.1314      0.027     -4.791      0.000      -0.185      -0.077\n",
      "season_summer                      0.1526      0.016      9.613      0.000       0.121       0.184\n",
      "season_fall                        0.1134      0.022      5.161      0.000       0.070       0.157\n",
      "season_winter                      0.1686      0.015     11.447      0.000       0.140       0.198\n",
      "mnth_mar                           0.0501      0.016      3.067      0.002       0.018       0.082\n",
      "mnth_sep                           0.0869      0.016      5.299      0.000       0.055       0.119\n",
      "mnth_oct                           0.0717      0.019      3.846      0.000       0.035       0.108\n",
      "weathersit_Mist_Cloudy            -0.0869      0.009     -9.372      0.000      -0.105      -0.069\n",
      "weathersit_LightSnow_LightRain    -0.2772      0.025    -11.173      0.000      -0.326      -0.228\n",
      "==============================================================================\n",
      "Omnibus:                       79.287   Durbin-Watson:                   2.101\n",
      "Prob(Omnibus):                  0.000   Jarque-Bera (JB):              199.258\n",
      "Skew:                          -0.790   Prob(JB):                     5.39e-44\n",
      "Kurtosis:                       5.624   Cond. No.                         13.7\n",
      "==============================================================================\n",
      "\n",
      "Warnings:\n",
      "[1] Standard Errors assume that the covariance matrix of the errors is correctly specified.\n",
      "                          Features    VIF\n",
      "2                             temp  13.50\n",
      "5                      season_fall   6.08\n",
      "3                        windspeed   3.56\n",
      "4                    season_summer   3.52\n",
      "6                    season_winter   2.87\n",
      "0                               yr   1.98\n",
      "9                         mnth_oct   1.57\n",
      "10          weathersit_Mist_Cloudy   1.53\n",
      "8                         mnth_sep   1.35\n",
      "7                         mnth_mar   1.18\n",
      "11  weathersit_LightSnow_LightRain   1.11\n",
      "1                          holiday   1.04\n"
     ]
    }
   ],
   "source": [
    "# drop varible having high VIF\n",
    "X_train_new = X_train_rfe.drop(['hum'],axis = 1)\n",
    "\n",
    "# Create stats model and look for summary\n",
    "lm_2 = sm_linearmodel(X_train_new)\n",
    "print(lm_2.summary())\n",
    "\n",
    "# Calculate VIF\n",
    "print(vif_calc(X_train_new))"
   ]
  },
  {
   "cell_type": "markdown",
   "metadata": {
    "papermill": {
     "duration": 0.036641,
     "end_time": "2020-08-12T13:45:12.282871",
     "exception": false,
     "start_time": "2020-08-12T13:45:12.246230",
     "status": "completed"
    },
    "tags": []
   },
   "source": [
    "**Insights:**\n",
    "- After dropping the variable `hum` there is no significant change in R-squared or adj. R2-squared. So decissionto drop the varibale is correct.\n",
    "- `R-squared: 0.836` and `Adj R-squared : 0.832`. All the variables are having pvalue < 0.05. So we will look into VIF.\n",
    "- VIF: `temp` is having high VIF. But as explained earlier we will look for next highest VIF `season_fall (6.8)` which is >5. We will drop `season_fall` and update the model."
   ]
  },
  {
   "cell_type": "code",
   "execution_count": 42,
   "metadata": {
    "execution": {
     "iopub.execute_input": "2020-08-12T13:45:12.367085Z",
     "iopub.status.busy": "2020-08-12T13:45:12.366344Z",
     "iopub.status.idle": "2020-08-12T13:45:12.410278Z",
     "shell.execute_reply": "2020-08-12T13:45:12.411137Z"
    },
    "papermill": {
     "duration": 0.091917,
     "end_time": "2020-08-12T13:45:12.411370",
     "exception": false,
     "start_time": "2020-08-12T13:45:12.319453",
     "status": "completed"
    },
    "scrolled": true,
    "tags": []
   },
   "outputs": [
    {
     "name": "stdout",
     "output_type": "stream",
     "text": [
      "                            OLS Regression Results                            \n",
      "==============================================================================\n",
      "Dep. Variable:                    cnt   R-squared:                       0.827\n",
      "Model:                            OLS   Adj. R-squared:                  0.824\n",
      "Method:                 Least Squares   F-statistic:                     217.0\n",
      "Date:                Sun, 24 Jan 2021   Prob (F-statistic):          5.89e-182\n",
      "Time:                        16:47:52   Log-Likelihood:                 460.73\n",
      "No. Observations:                 510   AIC:                            -897.5\n",
      "Df Residuals:                     498   BIC:                            -846.6\n",
      "Df Model:                          11                                         \n",
      "Covariance Type:            nonrobust                                         \n",
      "==================================================================================================\n",
      "                                     coef    std err          t      P>|t|      [0.025      0.975]\n",
      "--------------------------------------------------------------------------------------------------\n",
      "const                              0.0943      0.018      5.122      0.000       0.058       0.131\n",
      "yr                                 0.2547      0.009     28.721      0.000       0.237       0.272\n",
      "holiday                           -0.0916      0.025     -3.721      0.000      -0.140      -0.043\n",
      "temp                               0.5503      0.021     25.674      0.000       0.508       0.592\n",
      "windspeed                         -0.1378      0.028     -4.906      0.000      -0.193      -0.083\n",
      "season_summer                      0.0930      0.011      8.330      0.000       0.071       0.115\n",
      "season_winter                      0.1290      0.013     10.005      0.000       0.104       0.154\n",
      "mnth_mar                           0.0391      0.017      2.355      0.019       0.006       0.072\n",
      "mnth_sep                           0.1032      0.017      6.252      0.000       0.071       0.136\n",
      "mnth_oct                           0.0570      0.019      3.015      0.003       0.020       0.094\n",
      "weathersit_Mist_Cloudy            -0.0869      0.010     -9.147      0.000      -0.106      -0.068\n",
      "weathersit_LightSnow_LightRain    -0.2698      0.025    -10.622      0.000      -0.320      -0.220\n",
      "==============================================================================\n",
      "Omnibus:                       58.274   Durbin-Watson:                   2.081\n",
      "Prob(Omnibus):                  0.000   Jarque-Bera (JB):              119.954\n",
      "Skew:                          -0.652   Prob(JB):                     8.96e-27\n",
      "Kurtosis:                       4.986   Cond. No.                         10.6\n",
      "==============================================================================\n",
      "\n",
      "Warnings:\n",
      "[1] Standard Errors assume that the covariance matrix of the errors is correctly specified.\n",
      "                          Features   VIF\n",
      "2                             temp  3.85\n",
      "3                        windspeed  3.46\n",
      "0                               yr  1.97\n",
      "5                    season_winter  1.91\n",
      "4                    season_summer  1.64\n",
      "8                         mnth_oct  1.54\n",
      "9           weathersit_Mist_Cloudy  1.53\n",
      "7                         mnth_sep  1.30\n",
      "6                         mnth_mar  1.16\n",
      "10  weathersit_LightSnow_LightRain  1.11\n",
      "1                          holiday  1.04\n"
     ]
    }
   ],
   "source": [
    "# drop varible having high VIF\n",
    "X_train_new = X_train_new.drop(['season_fall'],axis = 1)\n",
    "\n",
    "# Create stats model and look for summary\n",
    "lm_3 = sm_linearmodel(X_train_new)\n",
    "print(lm_3.summary())\n",
    "\n",
    "# Calculate VIF\n",
    "print(vif_calc(X_train_new))"
   ]
  },
  {
   "cell_type": "markdown",
   "metadata": {
    "papermill": {
     "duration": 0.044283,
     "end_time": "2020-08-12T13:45:12.493572",
     "exception": false,
     "start_time": "2020-08-12T13:45:12.449289",
     "status": "completed"
    },
    "tags": []
   },
   "source": [
    "**Insights:**\n",
    "- After dropping the variable `season_fall` and updating model, we could see `R-squared: 0.827` and `Adj R-squared : 0.824`. there is no significant change in R-squared or adj. R2-squared. So decission to drop the varibale is correct.\n",
    "- All the variables are having pvalue < 0.05. All VIF is also < 5. \n",
    "- So we will 1st look into the higher pvalue varible and drop it to see the effect on R-squared.\n",
    "- `mnth_mar` is having highest pvalue `0.019`. We will drop the variable, update the model and see the any impact in R-squared."
   ]
  },
  {
   "cell_type": "code",
   "execution_count": 43,
   "metadata": {
    "execution": {
     "iopub.execute_input": "2020-08-12T13:45:12.590708Z",
     "iopub.status.busy": "2020-08-12T13:45:12.589602Z",
     "iopub.status.idle": "2020-08-12T13:45:12.639849Z",
     "shell.execute_reply": "2020-08-12T13:45:12.640801Z"
    },
    "papermill": {
     "duration": 0.102068,
     "end_time": "2020-08-12T13:45:12.641017",
     "exception": false,
     "start_time": "2020-08-12T13:45:12.538949",
     "status": "completed"
    },
    "scrolled": true,
    "tags": []
   },
   "outputs": [
    {
     "name": "stdout",
     "output_type": "stream",
     "text": [
      "                            OLS Regression Results                            \n",
      "==============================================================================\n",
      "Dep. Variable:                    cnt   R-squared:                       0.825\n",
      "Model:                            OLS   Adj. R-squared:                  0.822\n",
      "Method:                 Least Squares   F-statistic:                     235.9\n",
      "Date:                Sun, 24 Jan 2021   Prob (F-statistic):          5.83e-182\n",
      "Time:                        16:47:52   Log-Likelihood:                 457.90\n",
      "No. Observations:                 510   AIC:                            -893.8\n",
      "Df Residuals:                     499   BIC:                            -847.2\n",
      "Df Model:                          10                                         \n",
      "Covariance Type:            nonrobust                                         \n",
      "==================================================================================================\n",
      "                                     coef    std err          t      P>|t|      [0.025      0.975]\n",
      "--------------------------------------------------------------------------------------------------\n",
      "const                              0.1029      0.018      5.677      0.000       0.067       0.139\n",
      "yr                                 0.2548      0.009     28.601      0.000       0.237       0.272\n",
      "holiday                           -0.0953      0.025     -3.864      0.000      -0.144      -0.047\n",
      "temp                               0.5402      0.021     25.606      0.000       0.499       0.582\n",
      "windspeed                         -0.1356      0.028     -4.807      0.000      -0.191      -0.080\n",
      "season_summer                      0.0941      0.011      8.405      0.000       0.072       0.116\n",
      "season_winter                      0.1236      0.013      9.697      0.000       0.099       0.149\n",
      "mnth_sep                           0.1020      0.017      6.153      0.000       0.069       0.135\n",
      "mnth_oct                           0.0581      0.019      3.058      0.002       0.021       0.095\n",
      "weathersit_Mist_Cloudy            -0.0860      0.010     -9.013      0.000      -0.105      -0.067\n",
      "weathersit_LightSnow_LightRain    -0.2700      0.026    -10.584      0.000      -0.320      -0.220\n",
      "==============================================================================\n",
      "Omnibus:                       60.215   Durbin-Watson:                   2.075\n",
      "Prob(Omnibus):                  0.000   Jarque-Bera (JB):              131.778\n",
      "Skew:                          -0.651   Prob(JB):                     2.43e-29\n",
      "Kurtosis:                       5.123   Cond. No.                         10.5\n",
      "==============================================================================\n",
      "\n",
      "Warnings:\n",
      "[1] Standard Errors assume that the covariance matrix of the errors is correctly specified.\n",
      "                         Features   VIF\n",
      "2                            temp  3.82\n",
      "3                       windspeed  3.30\n",
      "0                              yr  1.96\n",
      "5                   season_winter  1.88\n",
      "4                   season_summer  1.63\n",
      "7                        mnth_oct  1.54\n",
      "8          weathersit_Mist_Cloudy  1.51\n",
      "6                        mnth_sep  1.30\n",
      "9  weathersit_LightSnow_LightRain  1.11\n",
      "1                         holiday  1.04\n"
     ]
    }
   ],
   "source": [
    "# drop varible having high VIF\n",
    "X_train_new = X_train_new.drop(['mnth_mar'],axis = 1)\n",
    "\n",
    "# Create stats model and look for summary\n",
    "lm_4 = sm_linearmodel(X_train_new)\n",
    "print(lm_4.summary())\n",
    "\n",
    "# Calculate VIF\n",
    "print(vif_calc(X_train_new))"
   ]
  },
  {
   "cell_type": "markdown",
   "metadata": {
    "papermill": {
     "duration": 0.038886,
     "end_time": "2020-08-12T13:45:12.721303",
     "exception": false,
     "start_time": "2020-08-12T13:45:12.682417",
     "status": "completed"
    },
    "tags": []
   },
   "source": [
    "**Insights:**\n",
    "- After dropping the variable `mnth_mar` and updating model, we could see `R-squared: 0.825` and `Adj R-squared : 0.822`. There is no significant change in R-squared or adj. R2-squared. So decission to drop the variable is correct.\n",
    "- All the variables are having pvalue < 0.05. All VIF is also < 5. \n",
    "- We could go with model lm_4 but we will try to reduce further independent variable.\n",
    "- So we will 1st look into the higher pvalue varible and drop it to see the effect on R-squared.\n",
    "- `mnth_oct` is having highest pvalue `0.002`. We will drop the variable, update the model and see the any impact in R-squared.\n",
    "There is no significant change in R2 for lm_3 and lm_4 however we could reduce one independent variable. So we will choose lm_4"
   ]
  },
  {
   "cell_type": "code",
   "execution_count": 44,
   "metadata": {
    "execution": {
     "iopub.execute_input": "2020-08-12T13:45:12.980849Z",
     "iopub.status.busy": "2020-08-12T13:45:12.980044Z",
     "iopub.status.idle": "2020-08-12T13:45:13.019317Z",
     "shell.execute_reply": "2020-08-12T13:45:13.018461Z"
    },
    "papermill": {
     "duration": 0.259092,
     "end_time": "2020-08-12T13:45:13.019463",
     "exception": false,
     "start_time": "2020-08-12T13:45:12.760371",
     "status": "completed"
    },
    "scrolled": true,
    "tags": []
   },
   "outputs": [
    {
     "name": "stdout",
     "output_type": "stream",
     "text": [
      "                            OLS Regression Results                            \n",
      "==============================================================================\n",
      "Dep. Variable:                    cnt   R-squared:                       0.822\n",
      "Model:                            OLS   Adj. R-squared:                  0.819\n",
      "Method:                 Least Squares   F-statistic:                     256.8\n",
      "Date:                Sun, 24 Jan 2021   Prob (F-statistic):          3.57e-181\n",
      "Time:                        16:47:52   Log-Likelihood:                 453.17\n",
      "No. Observations:                 510   AIC:                            -886.3\n",
      "Df Residuals:                     500   BIC:                            -844.0\n",
      "Df Model:                           9                                         \n",
      "Covariance Type:            nonrobust                                         \n",
      "==================================================================================================\n",
      "                                     coef    std err          t      P>|t|      [0.025      0.975]\n",
      "--------------------------------------------------------------------------------------------------\n",
      "const                              0.0969      0.018      5.330      0.000       0.061       0.133\n",
      "yr                                 0.2560      0.009     28.520      0.000       0.238       0.274\n",
      "holiday                           -0.0971      0.025     -3.904      0.000      -0.146      -0.048\n",
      "temp                               0.5516      0.021     26.351      0.000       0.510       0.593\n",
      "windspeed                         -0.1348      0.028     -4.740      0.000      -0.191      -0.079\n",
      "season_summer                      0.0923      0.011      8.186      0.000       0.070       0.114\n",
      "season_winter                      0.1427      0.011     12.734      0.000       0.121       0.165\n",
      "mnth_sep                           0.0933      0.016      5.666      0.000       0.061       0.126\n",
      "weathersit_Mist_Cloudy            -0.0849      0.010     -8.829      0.000      -0.104      -0.066\n",
      "weathersit_LightSnow_LightRain    -0.2642      0.026    -10.299      0.000      -0.315      -0.214\n",
      "==============================================================================\n",
      "Omnibus:                       53.635   Durbin-Watson:                   2.078\n",
      "Prob(Omnibus):                  0.000   Jarque-Bera (JB):              105.209\n",
      "Skew:                          -0.621   Prob(JB):                     1.43e-23\n",
      "Kurtosis:                       4.846   Cond. No.                         10.4\n",
      "==============================================================================\n",
      "\n",
      "Warnings:\n",
      "[1] Standard Errors assume that the covariance matrix of the errors is correctly specified.\n",
      "                         Features   VIF\n",
      "2                            temp  3.75\n",
      "3                       windspeed  3.28\n",
      "0                              yr  1.96\n",
      "4                   season_summer  1.63\n",
      "7          weathersit_Mist_Cloudy  1.51\n",
      "5                   season_winter  1.44\n",
      "6                        mnth_sep  1.26\n",
      "8  weathersit_LightSnow_LightRain  1.11\n",
      "1                         holiday  1.04\n"
     ]
    }
   ],
   "source": [
    "# drop varible having high VIF\n",
    "X_train_new = X_train_new.drop(['mnth_oct'],axis = 1)\n",
    "\n",
    "# Create stats model and look for summary\n",
    "lm_5 = sm_linearmodel(X_train_new)\n",
    "print(lm_5.summary())\n",
    "\n",
    "# Calculate VIF\n",
    "print(vif_calc(X_train_new))"
   ]
  },
  {
   "cell_type": "markdown",
   "metadata": {
    "papermill": {
     "duration": 0.037094,
     "end_time": "2020-08-12T13:45:13.097342",
     "exception": false,
     "start_time": "2020-08-12T13:45:13.060248",
     "status": "completed"
    },
    "tags": []
   },
   "source": [
    "**Insights:**\n",
    "- After dropping the variable `mnth_oct` and updating model, we could see `R-squared: 0.822` and `Adj R-squared : 0.819`. There is no significant change in R-squared or adj. \n",
    "- All the variables are having pvalue alomost zero and all VIF is also < 5. \n",
    "- There is no significant change in Adj R-squared for `lm_4` and `lm_5` however we could reduce one independent variable. So we will choose `lm_5` as our final model."
   ]
  },
  {
   "cell_type": "markdown",
   "metadata": {
    "papermill": {
     "duration": 0.037217,
     "end_time": "2020-08-12T13:45:13.172289",
     "exception": false,
     "start_time": "2020-08-12T13:45:13.135072",
     "status": "completed"
    },
    "tags": []
   },
   "source": [
    "**Final Model and its variables:**"
   ]
  },
  {
   "cell_type": "markdown",
   "metadata": {
    "papermill": {
     "duration": 0.037262,
     "end_time": "2020-08-12T13:45:13.247037",
     "exception": false,
     "start_time": "2020-08-12T13:45:13.209775",
     "status": "completed"
    },
    "tags": []
   },
   "source": [
    "Now the model looks goos with the Above variable. Lets list down the final varibles"
   ]
  },
  {
   "cell_type": "code",
   "execution_count": 45,
   "metadata": {
    "execution": {
     "iopub.execute_input": "2020-08-12T13:45:13.332273Z",
     "iopub.status.busy": "2020-08-12T13:45:13.331138Z",
     "iopub.status.idle": "2020-08-12T13:45:13.336929Z",
     "shell.execute_reply": "2020-08-12T13:45:13.336347Z"
    },
    "papermill": {
     "duration": 0.052643,
     "end_time": "2020-08-12T13:45:13.337075",
     "exception": false,
     "start_time": "2020-08-12T13:45:13.284432",
     "status": "completed"
    },
    "scrolled": true,
    "tags": []
   },
   "outputs": [
    {
     "name": "stdout",
     "output_type": "stream",
     "text": [
      "Final Selected Variables: ['yr', 'holiday', 'temp', 'windspeed', 'season_summer', 'season_winter', 'mnth_sep', 'weathersit_Mist_Cloudy', 'weathersit_LightSnow_LightRain']\n",
      "\u001b[1m\n",
      "Coefficent for the variables are:\u001b[0m\n",
      "const                             0.097\n",
      "yr                                0.256\n",
      "holiday                          -0.097\n",
      "temp                              0.552\n",
      "windspeed                        -0.135\n",
      "season_summer                     0.092\n",
      "season_winter                     0.143\n",
      "mnth_sep                          0.093\n",
      "weathersit_Mist_Cloudy           -0.085\n",
      "weathersit_LightSnow_LightRain   -0.264\n",
      "dtype: float64\n"
     ]
    }
   ],
   "source": [
    "# List down final model varibales and its coefficients\n",
    "\n",
    "# assign final model to lm_final\n",
    "lm_final = lm_5\n",
    "\n",
    "# list down and check variables of final model\n",
    "var_final = list(lm_final.params.index)\n",
    "var_final.remove('const')\n",
    "print('Final Selected Variables:', var_final)\n",
    "\n",
    "# Print the coefficents of final varible\n",
    "print('\\033[1m{:10s}\\033[0m'.format('\\nCoefficent for the variables are:'))\n",
    "print(round(lm_final.params,3))"
   ]
  },
  {
   "cell_type": "markdown",
   "metadata": {
    "papermill": {
     "duration": 0.037121,
     "end_time": "2020-08-12T13:45:13.411879",
     "exception": false,
     "start_time": "2020-08-12T13:45:13.374758",
     "status": "completed"
    },
    "tags": []
   },
   "source": [
    "**The final varibles are: `'yr','holiday', 'temp', 'windspeed', 'season_summer', 'season_winter', 'mnth_sep', 'weathersit_Mist_Cloudy', 'weathersit_LightSnow_LightRain'`**"
   ]
  },
  {
   "cell_type": "markdown",
   "metadata": {
    "papermill": {
     "duration": 0.037071,
     "end_time": "2020-08-12T13:45:13.486511",
     "exception": false,
     "start_time": "2020-08-12T13:45:13.449440",
     "status": "completed"
    },
    "tags": []
   },
   "source": [
    "### 4.3 Model Evaluation on train set"
   ]
  },
  {
   "cell_type": "markdown",
   "metadata": {
    "papermill": {
     "duration": 0.036946,
     "end_time": "2020-08-12T13:45:13.561465",
     "exception": false,
     "start_time": "2020-08-12T13:45:13.524519",
     "status": "completed"
    },
    "tags": []
   },
   "source": [
    "### Residual analysis"
   ]
  },
  {
   "cell_type": "code",
   "execution_count": 46,
   "metadata": {
    "execution": {
     "iopub.execute_input": "2020-08-12T13:45:13.642961Z",
     "iopub.status.busy": "2020-08-12T13:45:13.641886Z",
     "iopub.status.idle": "2020-08-12T13:45:13.645229Z",
     "shell.execute_reply": "2020-08-12T13:45:13.644510Z"
    },
    "papermill": {
     "duration": 0.046693,
     "end_time": "2020-08-12T13:45:13.645354",
     "exception": false,
     "start_time": "2020-08-12T13:45:13.598661",
     "status": "completed"
    },
    "tags": []
   },
   "outputs": [],
   "source": [
    "# Select final variables from the test dataset\n",
    "X_train_res = X_train[var_final]"
   ]
  },
  {
   "cell_type": "code",
   "execution_count": 47,
   "metadata": {
    "execution": {
     "iopub.execute_input": "2020-08-12T13:45:13.731346Z",
     "iopub.status.busy": "2020-08-12T13:45:13.727381Z",
     "iopub.status.idle": "2020-08-12T13:45:13.735191Z",
     "shell.execute_reply": "2020-08-12T13:45:13.734556Z"
    },
    "papermill": {
     "duration": 0.051609,
     "end_time": "2020-08-12T13:45:13.735321",
     "exception": false,
     "start_time": "2020-08-12T13:45:13.683712",
     "status": "completed"
    },
    "tags": []
   },
   "outputs": [],
   "source": [
    "#Add constant\n",
    "X_train_res = sm.add_constant(X_train_res)\n",
    "\n",
    "# predict train set\n",
    "y_train_pred = lm_final.predict(X_train_res)"
   ]
  },
  {
   "cell_type": "code",
   "execution_count": 48,
   "metadata": {
    "execution": {
     "iopub.execute_input": "2020-08-12T13:45:13.821961Z",
     "iopub.status.busy": "2020-08-12T13:45:13.816900Z",
     "iopub.status.idle": "2020-08-12T13:45:14.169649Z",
     "shell.execute_reply": "2020-08-12T13:45:14.168905Z"
    },
    "papermill": {
     "duration": 0.397175,
     "end_time": "2020-08-12T13:45:14.169781",
     "exception": false,
     "start_time": "2020-08-12T13:45:13.772606",
     "status": "completed"
    },
    "scrolled": true,
    "tags": []
   },
   "outputs": [
    {
     "data": {
      "image/png": "[encoded data removed]",
      "text/plain": [
       "<Figure size 432x288 with 1 Axes>"
      ]
     },
     "metadata": {
      "needs_background": "light"
     },
     "output_type": "display_data"
    }
   ],
   "source": [
    "# distrubition plot for residue\n",
    "res = y_train - y_train_pred\n",
    "sns.distplot(res)\n",
    "plt.title('Error terms')\n",
    "plt.show()"
   ]
  },
  {
   "cell_type": "markdown",
   "metadata": {
    "papermill": {
     "duration": 0.037627,
     "end_time": "2020-08-12T13:45:14.245561",
     "exception": false,
     "start_time": "2020-08-12T13:45:14.207934",
     "status": "completed"
    },
    "tags": []
   },
   "source": [
    "**Insights:**\n",
    "- The distribution plot of error term shows the normal distribution with mean at Zero."
   ]
  },
  {
   "cell_type": "code",
   "execution_count": 49,
   "metadata": {
    "execution": {
     "iopub.execute_input": "2020-08-12T13:45:14.336117Z",
     "iopub.status.busy": "2020-08-12T13:45:14.329843Z",
     "iopub.status.idle": "2020-08-12T13:45:14.515354Z",
     "shell.execute_reply": "2020-08-12T13:45:14.514705Z"
    },
    "papermill": {
     "duration": 0.231775,
     "end_time": "2020-08-12T13:45:14.515491",
     "exception": false,
     "start_time": "2020-08-12T13:45:14.283716",
     "status": "completed"
    },
    "tags": []
   },
   "outputs": [
    {
     "data": {
      "text/plain": [
       "Text(0, 0.5, 'Residual')"
      ]
     },
     "execution_count": 49,
     "metadata": {},
     "output_type": "execute_result"
    },
    {
     "data": {
      "image/png": "[encoded data removed]",
      "text/plain": [
       "<Figure size 576x360 with 1 Axes>"
      ]
     },
     "metadata": {
      "needs_background": "light"
     },
     "output_type": "display_data"
    }
   ],
   "source": [
    "# Error terms train set\n",
    "c = [i for i in range(1,len(y_train)+1,1)]\n",
    "fig = plt.figure(figsize=(8,5))\n",
    "plt.scatter(y_train,res)\n",
    "fig.suptitle('Error Terms', fontsize=16)              # Plot heading \n",
    "plt.xlabel('Y_train_pred', fontsize=14)                      # X-label\n",
    "plt.ylabel('Residual', fontsize=14)   "
   ]
  },
  {
   "cell_type": "markdown",
   "metadata": {
    "papermill": {
     "duration": 0.038035,
     "end_time": "2020-08-12T13:45:14.591946",
     "exception": false,
     "start_time": "2020-08-12T13:45:14.553911",
     "status": "completed"
    },
    "tags": []
   },
   "source": [
    "**Insights:**\n",
    "- It seems like the corresponding residual plot is reasonably random. \n",
    "- Also the error terms satisfies to have reasonably constant variance (homoscedasticity) "
   ]
  },
  {
   "cell_type": "markdown",
   "metadata": {
    "papermill": {
     "duration": 0.03825,
     "end_time": "2020-08-12T13:45:14.668285",
     "exception": false,
     "start_time": "2020-08-12T13:45:14.630035",
     "status": "completed"
    },
    "tags": []
   },
   "source": [
    "### 4.4 Prediction on test set"
   ]
  },
  {
   "cell_type": "code",
   "execution_count": 50,
   "metadata": {
    "execution": {
     "iopub.execute_input": "2020-08-12T13:45:14.769837Z",
     "iopub.status.busy": "2020-08-12T13:45:14.768762Z",
     "iopub.status.idle": "2020-08-12T13:45:14.773240Z",
     "shell.execute_reply": "2020-08-12T13:45:14.772522Z"
    },
    "papermill": {
     "duration": 0.066779,
     "end_time": "2020-08-12T13:45:14.773371",
     "exception": false,
     "start_time": "2020-08-12T13:45:14.706592",
     "status": "completed"
    },
    "tags": []
   },
   "outputs": [
    {
     "data": {
      "text/html": [
       "<div>\n",
       "<style scoped>\n",
       "    .dataframe tbody tr th:only-of-type {\n",
       "        vertical-align: middle;\n",
       "    }\n",
       "\n",
       "    .dataframe tbody tr th {\n",
       "        vertical-align: top;\n",
       "    }\n",
       "\n",
       "    .dataframe thead th {\n",
       "        text-align: right;\n",
       "    }\n",
       "</style>\n",
       "<table border=\"1\" class=\"dataframe\">\n",
       "  <thead>\n",
       "    <tr style=\"text-align: right;\">\n",
       "      <th></th>\n",
       "      <th>yr</th>\n",
       "      <th>holiday</th>\n",
       "      <th>workingday</th>\n",
       "      <th>temp</th>\n",
       "      <th>hum</th>\n",
       "      <th>windspeed</th>\n",
       "      <th>season_summer</th>\n",
       "      <th>season_fall</th>\n",
       "      <th>season_winter</th>\n",
       "      <th>weekday_Mon</th>\n",
       "      <th>...</th>\n",
       "      <th>mnth_may</th>\n",
       "      <th>mnth_jun</th>\n",
       "      <th>mnth_jul</th>\n",
       "      <th>mnth_aug</th>\n",
       "      <th>mnth_sep</th>\n",
       "      <th>mnth_oct</th>\n",
       "      <th>mnth_nov</th>\n",
       "      <th>mnth_dec</th>\n",
       "      <th>weathersit_Mist_Cloudy</th>\n",
       "      <th>weathersit_LightSnow_LightRain</th>\n",
       "    </tr>\n",
       "  </thead>\n",
       "  <tbody>\n",
       "    <tr>\n",
       "      <th>566</th>\n",
       "      <td>1</td>\n",
       "      <td>0</td>\n",
       "      <td>0</td>\n",
       "      <td>0.652175</td>\n",
       "      <td>0.863516</td>\n",
       "      <td>0.393568</td>\n",
       "      <td>0</td>\n",
       "      <td>1</td>\n",
       "      <td>0</td>\n",
       "      <td>0</td>\n",
       "      <td>...</td>\n",
       "      <td>0</td>\n",
       "      <td>0</td>\n",
       "      <td>1</td>\n",
       "      <td>0</td>\n",
       "      <td>0</td>\n",
       "      <td>0</td>\n",
       "      <td>0</td>\n",
       "      <td>0</td>\n",
       "      <td>0</td>\n",
       "      <td>1</td>\n",
       "    </tr>\n",
       "    <tr>\n",
       "      <th>374</th>\n",
       "      <td>1</td>\n",
       "      <td>0</td>\n",
       "      <td>1</td>\n",
       "      <td>0.276477</td>\n",
       "      <td>0.584521</td>\n",
       "      <td>0.340487</td>\n",
       "      <td>0</td>\n",
       "      <td>0</td>\n",
       "      <td>0</td>\n",
       "      <td>0</td>\n",
       "      <td>...</td>\n",
       "      <td>0</td>\n",
       "      <td>0</td>\n",
       "      <td>0</td>\n",
       "      <td>0</td>\n",
       "      <td>0</td>\n",
       "      <td>0</td>\n",
       "      <td>0</td>\n",
       "      <td>0</td>\n",
       "      <td>0</td>\n",
       "      <td>0</td>\n",
       "    </tr>\n",
       "    <tr>\n",
       "      <th>181</th>\n",
       "      <td>0</td>\n",
       "      <td>0</td>\n",
       "      <td>0</td>\n",
       "      <td>0.817910</td>\n",
       "      <td>0.265533</td>\n",
       "      <td>0.165370</td>\n",
       "      <td>0</td>\n",
       "      <td>1</td>\n",
       "      <td>0</td>\n",
       "      <td>0</td>\n",
       "      <td>...</td>\n",
       "      <td>0</td>\n",
       "      <td>0</td>\n",
       "      <td>1</td>\n",
       "      <td>0</td>\n",
       "      <td>0</td>\n",
       "      <td>0</td>\n",
       "      <td>0</td>\n",
       "      <td>0</td>\n",
       "      <td>0</td>\n",
       "      <td>0</td>\n",
       "    </tr>\n",
       "    <tr>\n",
       "      <th>529</th>\n",
       "      <td>1</td>\n",
       "      <td>0</td>\n",
       "      <td>1</td>\n",
       "      <td>0.720868</td>\n",
       "      <td>0.486457</td>\n",
       "      <td>0.476922</td>\n",
       "      <td>1</td>\n",
       "      <td>0</td>\n",
       "      <td>0</td>\n",
       "      <td>0</td>\n",
       "      <td>...</td>\n",
       "      <td>0</td>\n",
       "      <td>1</td>\n",
       "      <td>0</td>\n",
       "      <td>0</td>\n",
       "      <td>0</td>\n",
       "      <td>0</td>\n",
       "      <td>0</td>\n",
       "      <td>0</td>\n",
       "      <td>0</td>\n",
       "      <td>0</td>\n",
       "    </tr>\n",
       "    <tr>\n",
       "      <th>233</th>\n",
       "      <td>0</td>\n",
       "      <td>0</td>\n",
       "      <td>1</td>\n",
       "      <td>0.777567</td>\n",
       "      <td>0.359532</td>\n",
       "      <td>0.524373</td>\n",
       "      <td>0</td>\n",
       "      <td>1</td>\n",
       "      <td>0</td>\n",
       "      <td>0</td>\n",
       "      <td>...</td>\n",
       "      <td>0</td>\n",
       "      <td>0</td>\n",
       "      <td>0</td>\n",
       "      <td>1</td>\n",
       "      <td>0</td>\n",
       "      <td>0</td>\n",
       "      <td>0</td>\n",
       "      <td>0</td>\n",
       "      <td>0</td>\n",
       "      <td>0</td>\n",
       "    </tr>\n",
       "  </tbody>\n",
       "</table>\n",
       "<p>5 rows × 28 columns</p>\n",
       "</div>"
      ],
      "text/plain": [
       "     yr  holiday  workingday      temp       hum  windspeed  season_summer  \\\n",
       "566   1        0           0  0.652175  0.863516   0.393568              0   \n",
       "374   1        0           1  0.276477  0.584521   0.340487              0   \n",
       "181   0        0           0  0.817910  0.265533   0.165370              0   \n",
       "529   1        0           1  0.720868  0.486457   0.476922              1   \n",
       "233   0        0           1  0.777567  0.359532   0.524373              0   \n",
       "\n",
       "     season_fall  season_winter  weekday_Mon  ...  mnth_may  mnth_jun  \\\n",
       "566            1              0            0  ...         0         0   \n",
       "374            0              0            0  ...         0         0   \n",
       "181            1              0            0  ...         0         0   \n",
       "529            0              0            0  ...         0         1   \n",
       "233            1              0            0  ...         0         0   \n",
       "\n",
       "     mnth_jul  mnth_aug  mnth_sep  mnth_oct  mnth_nov  mnth_dec  \\\n",
       "566         1         0         0         0         0         0   \n",
       "374         0         0         0         0         0         0   \n",
       "181         1         0         0         0         0         0   \n",
       "529         0         0         0         0         0         0   \n",
       "233         0         1         0         0         0         0   \n",
       "\n",
       "     weathersit_Mist_Cloudy  weathersit_LightSnow_LightRain  \n",
       "566                       0                               1  \n",
       "374                       0                               0  \n",
       "181                       0                               0  \n",
       "529                       0                               0  \n",
       "233                       0                               0  \n",
       "\n",
       "[5 rows x 28 columns]"
      ]
     },
     "execution_count": 50,
     "metadata": {},
     "output_type": "execute_result"
    }
   ],
   "source": [
    "# check dataframe for the test set\n",
    "df_test.head()"
   ]
  },
  {
   "cell_type": "code",
   "execution_count": 51,
   "metadata": {
    "execution": {
     "iopub.execute_input": "2020-08-12T13:45:14.867044Z",
     "iopub.status.busy": "2020-08-12T13:45:14.866072Z",
     "iopub.status.idle": "2020-08-12T13:45:14.870668Z",
     "shell.execute_reply": "2020-08-12T13:45:14.870020Z"
    },
    "papermill": {
     "duration": 0.058584,
     "end_time": "2020-08-12T13:45:14.870809",
     "exception": false,
     "start_time": "2020-08-12T13:45:14.812225",
     "status": "completed"
    },
    "scrolled": true,
    "tags": []
   },
   "outputs": [
    {
     "data": {
      "text/html": [
       "<div>\n",
       "<style scoped>\n",
       "    .dataframe tbody tr th:only-of-type {\n",
       "        vertical-align: middle;\n",
       "    }\n",
       "\n",
       "    .dataframe tbody tr th {\n",
       "        vertical-align: top;\n",
       "    }\n",
       "\n",
       "    .dataframe thead th {\n",
       "        text-align: right;\n",
       "    }\n",
       "</style>\n",
       "<table border=\"1\" class=\"dataframe\">\n",
       "  <thead>\n",
       "    <tr style=\"text-align: right;\">\n",
       "      <th></th>\n",
       "      <th>yr</th>\n",
       "      <th>holiday</th>\n",
       "      <th>temp</th>\n",
       "      <th>windspeed</th>\n",
       "      <th>season_summer</th>\n",
       "      <th>season_winter</th>\n",
       "      <th>mnth_sep</th>\n",
       "      <th>weathersit_Mist_Cloudy</th>\n",
       "      <th>weathersit_LightSnow_LightRain</th>\n",
       "    </tr>\n",
       "  </thead>\n",
       "  <tbody>\n",
       "    <tr>\n",
       "      <th>566</th>\n",
       "      <td>1</td>\n",
       "      <td>0</td>\n",
       "      <td>0.652175</td>\n",
       "      <td>0.393568</td>\n",
       "      <td>0</td>\n",
       "      <td>0</td>\n",
       "      <td>0</td>\n",
       "      <td>0</td>\n",
       "      <td>1</td>\n",
       "    </tr>\n",
       "    <tr>\n",
       "      <th>374</th>\n",
       "      <td>1</td>\n",
       "      <td>0</td>\n",
       "      <td>0.276477</td>\n",
       "      <td>0.340487</td>\n",
       "      <td>0</td>\n",
       "      <td>0</td>\n",
       "      <td>0</td>\n",
       "      <td>0</td>\n",
       "      <td>0</td>\n",
       "    </tr>\n",
       "    <tr>\n",
       "      <th>181</th>\n",
       "      <td>0</td>\n",
       "      <td>0</td>\n",
       "      <td>0.817910</td>\n",
       "      <td>0.165370</td>\n",
       "      <td>0</td>\n",
       "      <td>0</td>\n",
       "      <td>0</td>\n",
       "      <td>0</td>\n",
       "      <td>0</td>\n",
       "    </tr>\n",
       "    <tr>\n",
       "      <th>529</th>\n",
       "      <td>1</td>\n",
       "      <td>0</td>\n",
       "      <td>0.720868</td>\n",
       "      <td>0.476922</td>\n",
       "      <td>1</td>\n",
       "      <td>0</td>\n",
       "      <td>0</td>\n",
       "      <td>0</td>\n",
       "      <td>0</td>\n",
       "    </tr>\n",
       "    <tr>\n",
       "      <th>233</th>\n",
       "      <td>0</td>\n",
       "      <td>0</td>\n",
       "      <td>0.777567</td>\n",
       "      <td>0.524373</td>\n",
       "      <td>0</td>\n",
       "      <td>0</td>\n",
       "      <td>0</td>\n",
       "      <td>0</td>\n",
       "      <td>0</td>\n",
       "    </tr>\n",
       "  </tbody>\n",
       "</table>\n",
       "</div>"
      ],
      "text/plain": [
       "     yr  holiday      temp  windspeed  season_summer  season_winter  mnth_sep  \\\n",
       "566   1        0  0.652175   0.393568              0              0         0   \n",
       "374   1        0  0.276477   0.340487              0              0         0   \n",
       "181   0        0  0.817910   0.165370              0              0         0   \n",
       "529   1        0  0.720868   0.476922              1              0         0   \n",
       "233   0        0  0.777567   0.524373              0              0         0   \n",
       "\n",
       "     weathersit_Mist_Cloudy  weathersit_LightSnow_LightRain  \n",
       "566                       0                               1  \n",
       "374                       0                               0  \n",
       "181                       0                               0  \n",
       "529                       0                               0  \n",
       "233                       0                               0  "
      ]
     },
     "execution_count": 51,
     "metadata": {},
     "output_type": "execute_result"
    }
   ],
   "source": [
    "# select final variables from X_test\n",
    "X_test_sm = X_test[var_final]\n",
    "X_test_sm.head()"
   ]
  },
  {
   "cell_type": "code",
   "execution_count": 52,
   "metadata": {
    "execution": {
     "iopub.execute_input": "2020-08-12T13:45:14.977587Z",
     "iopub.status.busy": "2020-08-12T13:45:14.976485Z",
     "iopub.status.idle": "2020-08-12T13:45:14.981991Z",
     "shell.execute_reply": "2020-08-12T13:45:14.981341Z"
    },
    "papermill": {
     "duration": 0.072275,
     "end_time": "2020-08-12T13:45:14.982146",
     "exception": false,
     "start_time": "2020-08-12T13:45:14.909871",
     "status": "completed"
    },
    "tags": []
   },
   "outputs": [
    {
     "data": {
      "text/html": [
       "<div>\n",
       "<style scoped>\n",
       "    .dataframe tbody tr th:only-of-type {\n",
       "        vertical-align: middle;\n",
       "    }\n",
       "\n",
       "    .dataframe tbody tr th {\n",
       "        vertical-align: top;\n",
       "    }\n",
       "\n",
       "    .dataframe thead th {\n",
       "        text-align: right;\n",
       "    }\n",
       "</style>\n",
       "<table border=\"1\" class=\"dataframe\">\n",
       "  <thead>\n",
       "    <tr style=\"text-align: right;\">\n",
       "      <th></th>\n",
       "      <th>const</th>\n",
       "      <th>yr</th>\n",
       "      <th>holiday</th>\n",
       "      <th>temp</th>\n",
       "      <th>windspeed</th>\n",
       "      <th>season_summer</th>\n",
       "      <th>season_winter</th>\n",
       "      <th>mnth_sep</th>\n",
       "      <th>weathersit_Mist_Cloudy</th>\n",
       "      <th>weathersit_LightSnow_LightRain</th>\n",
       "    </tr>\n",
       "  </thead>\n",
       "  <tbody>\n",
       "    <tr>\n",
       "      <th>566</th>\n",
       "      <td>1.0</td>\n",
       "      <td>1</td>\n",
       "      <td>0</td>\n",
       "      <td>0.652175</td>\n",
       "      <td>0.393568</td>\n",
       "      <td>0</td>\n",
       "      <td>0</td>\n",
       "      <td>0</td>\n",
       "      <td>0</td>\n",
       "      <td>1</td>\n",
       "    </tr>\n",
       "    <tr>\n",
       "      <th>374</th>\n",
       "      <td>1.0</td>\n",
       "      <td>1</td>\n",
       "      <td>0</td>\n",
       "      <td>0.276477</td>\n",
       "      <td>0.340487</td>\n",
       "      <td>0</td>\n",
       "      <td>0</td>\n",
       "      <td>0</td>\n",
       "      <td>0</td>\n",
       "      <td>0</td>\n",
       "    </tr>\n",
       "    <tr>\n",
       "      <th>181</th>\n",
       "      <td>1.0</td>\n",
       "      <td>0</td>\n",
       "      <td>0</td>\n",
       "      <td>0.817910</td>\n",
       "      <td>0.165370</td>\n",
       "      <td>0</td>\n",
       "      <td>0</td>\n",
       "      <td>0</td>\n",
       "      <td>0</td>\n",
       "      <td>0</td>\n",
       "    </tr>\n",
       "    <tr>\n",
       "      <th>529</th>\n",
       "      <td>1.0</td>\n",
       "      <td>1</td>\n",
       "      <td>0</td>\n",
       "      <td>0.720868</td>\n",
       "      <td>0.476922</td>\n",
       "      <td>1</td>\n",
       "      <td>0</td>\n",
       "      <td>0</td>\n",
       "      <td>0</td>\n",
       "      <td>0</td>\n",
       "    </tr>\n",
       "    <tr>\n",
       "      <th>233</th>\n",
       "      <td>1.0</td>\n",
       "      <td>0</td>\n",
       "      <td>0</td>\n",
       "      <td>0.777567</td>\n",
       "      <td>0.524373</td>\n",
       "      <td>0</td>\n",
       "      <td>0</td>\n",
       "      <td>0</td>\n",
       "      <td>0</td>\n",
       "      <td>0</td>\n",
       "    </tr>\n",
       "  </tbody>\n",
       "</table>\n",
       "</div>"
      ],
      "text/plain": [
       "     const  yr  holiday      temp  windspeed  season_summer  season_winter  \\\n",
       "566    1.0   1        0  0.652175   0.393568              0              0   \n",
       "374    1.0   1        0  0.276477   0.340487              0              0   \n",
       "181    1.0   0        0  0.817910   0.165370              0              0   \n",
       "529    1.0   1        0  0.720868   0.476922              1              0   \n",
       "233    1.0   0        0  0.777567   0.524373              0              0   \n",
       "\n",
       "     mnth_sep  weathersit_Mist_Cloudy  weathersit_LightSnow_LightRain  \n",
       "566         0                       0                               1  \n",
       "374         0                       0                               0  \n",
       "181         0                       0                               0  \n",
       "529         0                       0                               0  \n",
       "233         0                       0                               0  "
      ]
     },
     "execution_count": 52,
     "metadata": {},
     "output_type": "execute_result"
    }
   ],
   "source": [
    "# add constant\n",
    "X_test_sm = sm.add_constant(X_test_sm)\n",
    "X_test_sm.head()"
   ]
  },
  {
   "cell_type": "code",
   "execution_count": 53,
   "metadata": {
    "execution": {
     "iopub.execute_input": "2020-08-12T13:45:15.073768Z",
     "iopub.status.busy": "2020-08-12T13:45:15.072682Z",
     "iopub.status.idle": "2020-08-12T13:45:15.076036Z",
     "shell.execute_reply": "2020-08-12T13:45:15.075330Z"
    },
    "papermill": {
     "duration": 0.050645,
     "end_time": "2020-08-12T13:45:15.076176",
     "exception": false,
     "start_time": "2020-08-12T13:45:15.025531",
     "status": "completed"
    },
    "tags": []
   },
   "outputs": [],
   "source": [
    "# predict test dataset\n",
    "y_test_pred = lm_final.predict(X_test_sm)"
   ]
  },
  {
   "cell_type": "markdown",
   "metadata": {
    "papermill": {
     "duration": 0.041525,
     "end_time": "2020-08-12T13:45:15.157838",
     "exception": false,
     "start_time": "2020-08-12T13:45:15.116313",
     "status": "completed"
    },
    "tags": []
   },
   "source": [
    "### 4.5 Evaluate the model on test set"
   ]
  },
  {
   "cell_type": "code",
   "execution_count": 54,
   "metadata": {
    "execution": {
     "iopub.execute_input": "2020-08-12T13:45:15.246658Z",
     "iopub.status.busy": "2020-08-12T13:45:15.245705Z",
     "iopub.status.idle": "2020-08-12T13:45:15.249182Z",
     "shell.execute_reply": "2020-08-12T13:45:15.249750Z"
    },
    "papermill": {
     "duration": 0.05121,
     "end_time": "2020-08-12T13:45:15.249908",
     "exception": false,
     "start_time": "2020-08-12T13:45:15.198698",
     "status": "completed"
    },
    "tags": []
   },
   "outputs": [
    {
     "name": "stdout",
     "output_type": "stream",
     "text": [
      "R-Squared for Test dataset:  0.815\n"
     ]
    }
   ],
   "source": [
    "# Get R-Squared fro test dataset\n",
    "r2_test = r2_score(y_true = y_test, y_pred = y_test_pred)\n",
    "print('R-Squared for Test dataset: ', round(r2_test,3))"
   ]
  },
  {
   "cell_type": "code",
   "execution_count": 55,
   "metadata": {
    "execution": {
     "iopub.execute_input": "2020-08-12T13:45:15.338460Z",
     "iopub.status.busy": "2020-08-12T13:45:15.337551Z",
     "iopub.status.idle": "2020-08-12T13:45:15.341669Z",
     "shell.execute_reply": "2020-08-12T13:45:15.340944Z"
    },
    "papermill": {
     "duration": 0.051176,
     "end_time": "2020-08-12T13:45:15.341793",
     "exception": false,
     "start_time": "2020-08-12T13:45:15.290617",
     "status": "completed"
    },
    "tags": []
   },
   "outputs": [
    {
     "name": "stdout",
     "output_type": "stream",
     "text": [
      "Adj. R-Squared for Test dataset:  0.807\n"
     ]
    }
   ],
   "source": [
    "# Adj. R-Squared for test dataset\n",
    "N= len(X_test)          # sample size\n",
    "p =len(var_final)     # Number of independent variable\n",
    "r2_test_adj = round((1-((1-r2_test)*(N-1)/(N-p-1))),3)\n",
    "print('Adj. R-Squared for Test dataset: ', round(r2_test_adj,3))"
   ]
  },
  {
   "cell_type": "code",
   "execution_count": 56,
   "metadata": {
    "execution": {
     "iopub.execute_input": "2020-08-12T13:45:15.428324Z",
     "iopub.status.busy": "2020-08-12T13:45:15.427389Z",
     "iopub.status.idle": "2020-08-12T13:45:15.431541Z",
     "shell.execute_reply": "2020-08-12T13:45:15.430811Z"
    },
    "papermill": {
     "duration": 0.050017,
     "end_time": "2020-08-12T13:45:15.431666",
     "exception": false,
     "start_time": "2020-08-12T13:45:15.381649",
     "status": "completed"
    },
    "tags": []
   },
   "outputs": [
    {
     "name": "stdout",
     "output_type": "stream",
     "text": [
      "Mean_Squared_Error : 0.0096\n"
     ]
    }
   ],
   "source": [
    "# Mean Sqare Error\n",
    "mse = mean_squared_error(y_test, y_test_pred)\n",
    "print('Mean_Squared_Error :' ,round(mse,4))"
   ]
  },
  {
   "cell_type": "code",
   "execution_count": 57,
   "metadata": {
    "execution": {
     "iopub.execute_input": "2020-08-12T13:45:15.525513Z",
     "iopub.status.busy": "2020-08-12T13:45:15.524422Z",
     "iopub.status.idle": "2020-08-12T13:45:15.707195Z",
     "shell.execute_reply": "2020-08-12T13:45:15.706514Z"
    },
    "papermill": {
     "duration": 0.235742,
     "end_time": "2020-08-12T13:45:15.707342",
     "exception": false,
     "start_time": "2020-08-12T13:45:15.471600",
     "status": "completed"
    },
    "scrolled": false,
    "tags": []
   },
   "outputs": [
    {
     "data": {
      "image/png": "[encoded data removed]",
      "text/plain": [
       "<Figure size 432x288 with 1 Axes>"
      ]
     },
     "metadata": {
      "needs_background": "light"
     },
     "output_type": "display_data"
    }
   ],
   "source": [
    "res_test = y_test - y_test_pred\n",
    "plt.title('Error Terms', fontsize=16) \n",
    "sns.distplot(res_test)\n",
    "plt.show()"
   ]
  },
  {
   "cell_type": "markdown",
   "metadata": {
    "papermill": {
     "duration": 0.039809,
     "end_time": "2020-08-12T13:45:15.788366",
     "exception": false,
     "start_time": "2020-08-12T13:45:15.748557",
     "status": "completed"
    },
    "tags": []
   },
   "source": [
    "- The distribution plot of error term shows the normal distribution with mean at Zero."
   ]
  },
  {
   "cell_type": "code",
   "execution_count": 58,
   "metadata": {
    "execution": {
     "iopub.execute_input": "2020-08-12T13:45:15.882438Z",
     "iopub.status.busy": "2020-08-12T13:45:15.881533Z",
     "iopub.status.idle": "2020-08-12T13:45:16.054584Z",
     "shell.execute_reply": "2020-08-12T13:45:16.053815Z"
    },
    "papermill": {
     "duration": 0.226054,
     "end_time": "2020-08-12T13:45:16.054707",
     "exception": false,
     "start_time": "2020-08-12T13:45:15.828653",
     "status": "completed"
    },
    "tags": []
   },
   "outputs": [
    {
     "data": {
      "text/plain": [
       "Text(0, 0.5, 'Residual')"
      ]
     },
     "execution_count": 58,
     "metadata": {},
     "output_type": "execute_result"
    },
    {
     "data": {
      "image/png": "[encoded data removed]",
      "text/plain": [
       "<Figure size 576x360 with 1 Axes>"
      ]
     },
     "metadata": {
      "needs_background": "light"
     },
     "output_type": "display_data"
    }
   ],
   "source": [
    "# Error terms\n",
    "c = [i for i in range(1,len(y_test)+1,1)]\n",
    "fig = plt.figure(figsize=(8,5))\n",
    "plt.scatter(y_test,res_test)\n",
    "fig.suptitle('Error Terms', fontsize=16)              # Plot heading \n",
    "plt.xlabel('Y_test_pred', fontsize=14)                      # X-label\n",
    "plt.ylabel('Residual', fontsize=14)   "
   ]
  },
  {
   "cell_type": "markdown",
   "metadata": {
    "papermill": {
     "duration": 0.040579,
     "end_time": "2020-08-12T13:45:16.136310",
     "exception": false,
     "start_time": "2020-08-12T13:45:16.095731",
     "status": "completed"
    },
    "tags": []
   },
   "source": [
    "- It seems like the corresponding residual plot is reasonably random."
   ]
  },
  {
   "cell_type": "code",
   "execution_count": 59,
   "metadata": {
    "execution": {
     "iopub.execute_input": "2020-08-12T13:45:16.231008Z",
     "iopub.status.busy": "2020-08-12T13:45:16.230152Z",
     "iopub.status.idle": "2020-08-12T13:45:16.386810Z",
     "shell.execute_reply": "2020-08-12T13:45:16.386194Z"
    },
    "papermill": {
     "duration": 0.21002,
     "end_time": "2020-08-12T13:45:16.386932",
     "exception": false,
     "start_time": "2020-08-12T13:45:16.176912",
     "status": "completed"
    },
    "scrolled": false,
    "tags": []
   },
   "outputs": [
    {
     "data": {
      "text/plain": [
       "Text(0, 0.5, 'y_test_pred')"
      ]
     },
     "execution_count": 59,
     "metadata": {},
     "output_type": "execute_result"
    },
    {
     "data": {
      "image/png": "[encoded data removed]",
      "text/plain": [
       "<Figure size 432x288 with 1 Axes>"
      ]
     },
     "metadata": {
      "needs_background": "light"
     },
     "output_type": "display_data"
    }
   ],
   "source": [
    "# Plotting y_test and y_pred to understand the spread\n",
    "\n",
    "fig = plt.figure()\n",
    "plt.scatter(y_test, y_test_pred)\n",
    "fig.suptitle('y_test vs y_pred', fontsize = 20)              # Plot heading \n",
    "plt.xlabel('y_test', fontsize = 18)                          # X-label\n",
    "plt.ylabel('y_test_pred', fontsize = 16)      "
   ]
  },
  {
   "cell_type": "markdown",
   "metadata": {
    "papermill": {
     "duration": 0.040591,
     "end_time": "2020-08-12T13:45:16.468482",
     "exception": false,
     "start_time": "2020-08-12T13:45:16.427891",
     "status": "completed"
    },
    "tags": []
   },
   "source": [
    "**Insights:**\n",
    "- We can colude that the model `lm_5` fit isn't by chance, and has descent predictive power."
   ]
  },
  {
   "cell_type": "markdown",
   "metadata": {
    "papermill": {
     "duration": 0.040847,
     "end_time": "2020-08-12T13:45:16.550221",
     "exception": false,
     "start_time": "2020-08-12T13:45:16.509374",
     "status": "completed"
    },
    "tags": []
   },
   "source": [
    "### Step-5: Conclusions"
   ]
  },
  {
   "cell_type": "code",
   "execution_count": 60,
   "metadata": {
    "execution": {
     "iopub.execute_input": "2020-08-12T13:45:16.642080Z",
     "iopub.status.busy": "2020-08-12T13:45:16.641251Z",
     "iopub.status.idle": "2020-08-12T13:45:16.645408Z",
     "shell.execute_reply": "2020-08-12T13:45:16.644683Z"
    },
    "papermill": {
     "duration": 0.054216,
     "end_time": "2020-08-12T13:45:16.645524",
     "exception": false,
     "start_time": "2020-08-12T13:45:16.591308",
     "status": "completed"
    },
    "tags": []
   },
   "outputs": [
    {
     "name": "stdout",
     "output_type": "stream",
     "text": [
      "R- Sqaured train:  0.82   Adj. R-Squared train: 0.819\n",
      "R- Sqaured test :  0.81   Adj. R-Squared test : 0.807\n",
      "\u001b[1m\n",
      "Coefficent for the variables are:\u001b[0m\n",
      "const                             0.097\n",
      "yr                                0.256\n",
      "holiday                          -0.097\n",
      "temp                              0.552\n",
      "windspeed                        -0.135\n",
      "season_summer                     0.092\n",
      "season_winter                     0.143\n",
      "mnth_sep                          0.093\n",
      "weathersit_Mist_Cloudy           -0.085\n",
      "weathersit_LightSnow_LightRain   -0.264\n",
      "dtype: float64\n"
     ]
    }
   ],
   "source": [
    "# Print R Squared and adj. R Squared\n",
    "print('R- Sqaured train: ', round(lm_final.rsquared,2), '  Adj. R-Squared train:', round(lm_final.rsquared_adj,3) )\n",
    "print('R- Sqaured test : ', round(r2_test,2), '  Adj. R-Squared test :', round(r2_test_adj,3))\n",
    "\n",
    "# Print the coefficents of final varible\n",
    "print('\\033[1m{:10s}\\033[0m'.format('\\nCoefficent for the variables are:'))\n",
    "print(round(lm_final.params,3))"
   ]
  },
  {
   "cell_type": "markdown",
   "metadata": {
    "papermill": {
     "duration": 0.040663,
     "end_time": "2020-08-12T13:45:16.727503",
     "exception": false,
     "start_time": "2020-08-12T13:45:16.686840",
     "status": "completed"
    },
    "tags": []
   },
   "source": [
    "The equation of our best fitted line is:\n",
    "\n",
    "$ cnt = 0.097 + (0.256  \\times  yr) + (0.097  \\times  holiday) + (0.552 \\times temp) - (0.135 \\times windspeed) + (0.092 \\times SeasonSummer) + (0.143 \\times SeasonWinter) + (0.093 \\times MonthSep) - (0.085 \\times WeathersitMistCloudy) - (0.264 \\times weathersitLightSnowLightRain) $"
   ]
  },
  {
   "cell_type": "markdown",
   "metadata": {
    "papermill": {
     "duration": 0.041394,
     "end_time": "2020-08-12T13:45:16.810904",
     "exception": false,
     "start_time": "2020-08-12T13:45:16.769510",
     "status": "completed"
    },
    "tags": []
   },
   "source": [
    "- From R-Sqaured and adj R-Sqaured value of both train and test dataset we could conclude that the above variables can well explain more than 80% of bike demand.\n",
    "- Coeffiencients of the variables explains the factors effecting the bike demand\n",
    "\n",
    "- Based on final model top three features contributing significantly towards explaining the demand are:\n",
    "    1. Temperature (0.552)\n",
    "    2. weathersit : Light Snow, Light Rain + Thunderstorm + Scattered clouds, Light Rain + Scattered clouds (-0.264)\n",
    "    3. year (0.256)\n",
    "\n",
    "\n",
    "- **So it recomended to give these variables utmost importance while planning to achieve maximum demand.**"
   ]
  }
 ],
 "metadata": {
  "kernelspec": {
   "display_name": "Python 3",
   "language": "python",
   "name": "python3"
  },
  "language_info": {
   "codemirror_mode": {
    "name": "ipython",
    "version": 3
   },
   "file_extension": ".py",
   "mimetype": "text/x-python",
   "name": "python",
   "nbconvert_exporter": "python",
   "pygments_lexer": "ipython3",
   "version": "3.8.3"
  },
  "papermill": {
   "duration": 24.090556,
   "end_time": "2020-08-12T13:45:16.960622",
   "environment_variables": {},
   "exception": null,
   "input_path": "__notebook__.ipynb",
   "output_path": "__notebook__.ipynb",
   "parameters": {},
   "start_time": "2020-08-12T13:44:52.870066",
   "version": "2.1.0"
  }
 },
 "nbformat": 4,
 "nbformat_minor": 4
}
